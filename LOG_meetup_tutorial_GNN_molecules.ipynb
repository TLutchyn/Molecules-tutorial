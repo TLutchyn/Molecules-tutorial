{
  "cells": [
    {
      "cell_type": "markdown",
      "id": "15b43a89",
      "metadata": {
        "id": "15b43a89"
      },
      "source": [
        "Application of GNN for calculating the solubility of Molecule (Graph Level Prediction)\n",
        "\n",
        "https://medium.com/@tejpal.abhyuday/application-of-gnn-for-calculating-the-solubility-of-molecule-graph-level-prediction-8bac5fabf600"
      ]
    },
    {
      "cell_type": "code",
      "source": [
        "# Install PyTorch\n",
        "!pip install torch torchvision torchaudio --index-url https://download.pytorch.org/whl/cu118\n",
        "\n",
        "# Install PyTorch Geometric dependencies\n",
        "!pip install torch-scatter -f https://data.pyg.org/whl/torch-2.0.0+cu118.html\n",
        "!pip install torch-sparse -f https://data.pyg.org/whl/torch-2.0.0+cu118.html\n",
        "!pip install torch-cluster -f https://data.pyg.org/whl/torch-2.0.0+cu118.html\n",
        "!pip install torch-spline-conv -f https://data.pyg.org/whl/torch-2.0.0+cu118.html\n",
        "\n",
        "# Install PyTorch Geometric\n",
        "!pip install torch-geometric"
      ],
      "metadata": {
        "id": "dsUX6KO54W0m",
        "colab": {
          "base_uri": "https://localhost:8080/"
        },
        "outputId": "493b6960-d755-47c9-e5a6-33abf11957e7"
      },
      "id": "dsUX6KO54W0m",
      "execution_count": null,
      "outputs": [
        {
          "output_type": "stream",
          "name": "stdout",
          "text": [
            "Looking in indexes: https://download.pytorch.org/whl/cu118\n",
            "Requirement already satisfied: torch in /usr/local/lib/python3.10/dist-packages (2.5.1+cu121)\n",
            "Requirement already satisfied: torchvision in /usr/local/lib/python3.10/dist-packages (0.20.1+cu121)\n",
            "Requirement already satisfied: torchaudio in /usr/local/lib/python3.10/dist-packages (2.5.1+cu121)\n",
            "Requirement already satisfied: filelock in /usr/local/lib/python3.10/dist-packages (from torch) (3.16.1)\n",
            "Requirement already satisfied: typing-extensions>=4.8.0 in /usr/local/lib/python3.10/dist-packages (from torch) (4.12.2)\n",
            "Requirement already satisfied: networkx in /usr/local/lib/python3.10/dist-packages (from torch) (3.4.2)\n",
            "Requirement already satisfied: jinja2 in /usr/local/lib/python3.10/dist-packages (from torch) (3.1.4)\n",
            "Requirement already satisfied: fsspec in /usr/local/lib/python3.10/dist-packages (from torch) (2024.10.0)\n",
            "Requirement already satisfied: sympy==1.13.1 in /usr/local/lib/python3.10/dist-packages (from torch) (1.13.1)\n",
            "Requirement already satisfied: mpmath<1.4,>=1.1.0 in /usr/local/lib/python3.10/dist-packages (from sympy==1.13.1->torch) (1.3.0)\n",
            "Requirement already satisfied: numpy in /usr/local/lib/python3.10/dist-packages (from torchvision) (1.26.4)\n",
            "Requirement already satisfied: pillow!=8.3.*,>=5.3.0 in /usr/local/lib/python3.10/dist-packages (from torchvision) (11.0.0)\n",
            "Requirement already satisfied: MarkupSafe>=2.0 in /usr/local/lib/python3.10/dist-packages (from jinja2->torch) (3.0.2)\n",
            "Looking in links: https://data.pyg.org/whl/torch-2.0.0+cu118.html\n",
            "Collecting torch-scatter\n",
            "  Downloading https://data.pyg.org/whl/torch-2.0.0%2Bcu118/torch_scatter-2.1.2%2Bpt20cu118-cp310-cp310-linux_x86_64.whl (10.2 MB)\n",
            "\u001b[2K     \u001b[90m━━━━━━━━━━━━━━━━━━━━━━━━━━━━━━━━━━━━━━━━\u001b[0m \u001b[32m10.2/10.2 MB\u001b[0m \u001b[31m15.5 MB/s\u001b[0m eta \u001b[36m0:00:00\u001b[0m\n",
            "\u001b[?25hInstalling collected packages: torch-scatter\n",
            "Successfully installed torch-scatter-2.1.2+pt20cu118\n",
            "Looking in links: https://data.pyg.org/whl/torch-2.0.0+cu118.html\n",
            "Collecting torch-sparse\n",
            "  Downloading https://data.pyg.org/whl/torch-2.0.0%2Bcu118/torch_sparse-0.6.18%2Bpt20cu118-cp310-cp310-linux_x86_64.whl (4.9 MB)\n",
            "\u001b[2K     \u001b[90m━━━━━━━━━━━━━━━━━━━━━━━━━━━━━━━━━━━━━━━━\u001b[0m \u001b[32m4.9/4.9 MB\u001b[0m \u001b[31m18.6 MB/s\u001b[0m eta \u001b[36m0:00:00\u001b[0m\n",
            "\u001b[?25hRequirement already satisfied: scipy in /usr/local/lib/python3.10/dist-packages (from torch-sparse) (1.13.1)\n",
            "Requirement already satisfied: numpy<2.3,>=1.22.4 in /usr/local/lib/python3.10/dist-packages (from scipy->torch-sparse) (1.26.4)\n",
            "Installing collected packages: torch-sparse\n",
            "Successfully installed torch-sparse-0.6.18+pt20cu118\n",
            "Looking in links: https://data.pyg.org/whl/torch-2.0.0+cu118.html\n",
            "Collecting torch-cluster\n",
            "  Downloading https://data.pyg.org/whl/torch-2.0.0%2Bcu118/torch_cluster-1.6.3%2Bpt20cu118-cp310-cp310-linux_x86_64.whl (3.3 MB)\n",
            "\u001b[2K     \u001b[90m━━━━━━━━━━━━━━━━━━━━━━━━━━━━━━━━━━━━━━━━\u001b[0m \u001b[32m3.3/3.3 MB\u001b[0m \u001b[31m13.5 MB/s\u001b[0m eta \u001b[36m0:00:00\u001b[0m\n",
            "\u001b[?25hRequirement already satisfied: scipy in /usr/local/lib/python3.10/dist-packages (from torch-cluster) (1.13.1)\n",
            "Requirement already satisfied: numpy<2.3,>=1.22.4 in /usr/local/lib/python3.10/dist-packages (from scipy->torch-cluster) (1.26.4)\n",
            "Installing collected packages: torch-cluster\n",
            "Successfully installed torch-cluster-1.6.3+pt20cu118\n",
            "Looking in links: https://data.pyg.org/whl/torch-2.0.0+cu118.html\n",
            "Collecting torch-spline-conv\n",
            "  Downloading https://data.pyg.org/whl/torch-2.0.0%2Bcu118/torch_spline_conv-1.2.2%2Bpt20cu118-cp310-cp310-linux_x86_64.whl (886 kB)\n",
            "\u001b[2K     \u001b[90m━━━━━━━━━━━━━━━━━━━━━━━━━━━━━━━━━━━━━━━━\u001b[0m \u001b[32m886.6/886.6 kB\u001b[0m \u001b[31m6.7 MB/s\u001b[0m eta \u001b[36m0:00:00\u001b[0m\n",
            "\u001b[?25hInstalling collected packages: torch-spline-conv\n",
            "Successfully installed torch-spline-conv-1.2.2+pt20cu118\n",
            "Collecting torch-geometric\n",
            "  Downloading torch_geometric-2.6.1-py3-none-any.whl.metadata (63 kB)\n",
            "\u001b[2K     \u001b[90m━━━━━━━━━━━━━━━━━━━━━━━━━━━━━━━━━━━━━━━━\u001b[0m \u001b[32m63.1/63.1 kB\u001b[0m \u001b[31m2.0 MB/s\u001b[0m eta \u001b[36m0:00:00\u001b[0m\n",
            "\u001b[?25hRequirement already satisfied: aiohttp in /usr/local/lib/python3.10/dist-packages (from torch-geometric) (3.11.2)\n",
            "Requirement already satisfied: fsspec in /usr/local/lib/python3.10/dist-packages (from torch-geometric) (2024.10.0)\n",
            "Requirement already satisfied: jinja2 in /usr/local/lib/python3.10/dist-packages (from torch-geometric) (3.1.4)\n",
            "Requirement already satisfied: numpy in /usr/local/lib/python3.10/dist-packages (from torch-geometric) (1.26.4)\n",
            "Requirement already satisfied: psutil>=5.8.0 in /usr/local/lib/python3.10/dist-packages (from torch-geometric) (5.9.5)\n",
            "Requirement already satisfied: pyparsing in /usr/local/lib/python3.10/dist-packages (from torch-geometric) (3.2.0)\n",
            "Requirement already satisfied: requests in /usr/local/lib/python3.10/dist-packages (from torch-geometric) (2.32.3)\n",
            "Requirement already satisfied: tqdm in /usr/local/lib/python3.10/dist-packages (from torch-geometric) (4.66.6)\n",
            "Requirement already satisfied: aiohappyeyeballs>=2.3.0 in /usr/local/lib/python3.10/dist-packages (from aiohttp->torch-geometric) (2.4.3)\n",
            "Requirement already satisfied: aiosignal>=1.1.2 in /usr/local/lib/python3.10/dist-packages (from aiohttp->torch-geometric) (1.3.1)\n",
            "Requirement already satisfied: attrs>=17.3.0 in /usr/local/lib/python3.10/dist-packages (from aiohttp->torch-geometric) (24.2.0)\n",
            "Requirement already satisfied: frozenlist>=1.1.1 in /usr/local/lib/python3.10/dist-packages (from aiohttp->torch-geometric) (1.5.0)\n",
            "Requirement already satisfied: multidict<7.0,>=4.5 in /usr/local/lib/python3.10/dist-packages (from aiohttp->torch-geometric) (6.1.0)\n",
            "Requirement already satisfied: propcache>=0.2.0 in /usr/local/lib/python3.10/dist-packages (from aiohttp->torch-geometric) (0.2.0)\n",
            "Requirement already satisfied: yarl<2.0,>=1.17.0 in /usr/local/lib/python3.10/dist-packages (from aiohttp->torch-geometric) (1.17.2)\n",
            "Requirement already satisfied: async-timeout<6.0,>=4.0 in /usr/local/lib/python3.10/dist-packages (from aiohttp->torch-geometric) (4.0.3)\n",
            "Requirement already satisfied: MarkupSafe>=2.0 in /usr/local/lib/python3.10/dist-packages (from jinja2->torch-geometric) (3.0.2)\n",
            "Requirement already satisfied: charset-normalizer<4,>=2 in /usr/local/lib/python3.10/dist-packages (from requests->torch-geometric) (3.4.0)\n",
            "Requirement already satisfied: idna<4,>=2.5 in /usr/local/lib/python3.10/dist-packages (from requests->torch-geometric) (3.10)\n",
            "Requirement already satisfied: urllib3<3,>=1.21.1 in /usr/local/lib/python3.10/dist-packages (from requests->torch-geometric) (2.2.3)\n",
            "Requirement already satisfied: certifi>=2017.4.17 in /usr/local/lib/python3.10/dist-packages (from requests->torch-geometric) (2024.8.30)\n",
            "Requirement already satisfied: typing-extensions>=4.1.0 in /usr/local/lib/python3.10/dist-packages (from multidict<7.0,>=4.5->aiohttp->torch-geometric) (4.12.2)\n",
            "Downloading torch_geometric-2.6.1-py3-none-any.whl (1.1 MB)\n",
            "\u001b[2K   \u001b[90m━━━━━━━━━━━━━━━━━━━━━━━━━━━━━━━━━━━━━━━━\u001b[0m \u001b[32m1.1/1.1 MB\u001b[0m \u001b[31m18.4 MB/s\u001b[0m eta \u001b[36m0:00:00\u001b[0m\n",
            "\u001b[?25hInstalling collected packages: torch-geometric\n",
            "Successfully installed torch-geometric-2.6.1\n"
          ]
        }
      ]
    },
    {
      "cell_type": "code",
      "source": [
        "!pip install rdkit"
      ],
      "metadata": {
        "id": "YTl7UkDKvRbq",
        "colab": {
          "base_uri": "https://localhost:8080/"
        },
        "outputId": "703a861f-ae35-4c10-fbf2-4a479f8e309f"
      },
      "id": "YTl7UkDKvRbq",
      "execution_count": null,
      "outputs": [
        {
          "output_type": "stream",
          "name": "stdout",
          "text": [
            "Collecting rdkit\n",
            "  Downloading rdkit-2024.3.6-cp310-cp310-manylinux_2_28_x86_64.whl.metadata (4.0 kB)\n",
            "Requirement already satisfied: numpy in /usr/local/lib/python3.10/dist-packages (from rdkit) (1.26.4)\n",
            "Requirement already satisfied: Pillow in /usr/local/lib/python3.10/dist-packages (from rdkit) (11.0.0)\n",
            "Downloading rdkit-2024.3.6-cp310-cp310-manylinux_2_28_x86_64.whl (32.8 MB)\n",
            "\u001b[2K   \u001b[90m━━━━━━━━━━━━━━━━━━━━━━━━━━━━━━━━━━━━━━━━\u001b[0m \u001b[32m32.8/32.8 MB\u001b[0m \u001b[31m11.7 MB/s\u001b[0m eta \u001b[36m0:00:00\u001b[0m\n",
            "\u001b[?25hInstalling collected packages: rdkit\n",
            "Successfully installed rdkit-2024.3.6\n"
          ]
        }
      ]
    },
    {
      "cell_type": "code",
      "source": [
        "import torch\n",
        "import rdkit\n",
        "from torch_geometric.datasets import MoleculeNet"
      ],
      "metadata": {
        "id": "SaXSC0Fxi9iB",
        "colab": {
          "base_uri": "https://localhost:8080/"
        },
        "outputId": "7d2213ec-033d-487d-8681-f990caddc91d"
      },
      "id": "SaXSC0Fxi9iB",
      "execution_count": null,
      "outputs": [
        {
          "output_type": "stream",
          "name": "stderr",
          "text": [
            "/usr/local/lib/python3.10/dist-packages/torch_geometric/typing.py:86: UserWarning: An issue occurred while importing 'torch-scatter'. Disabling its usage. Stacktrace: /usr/local/lib/python3.10/dist-packages/torch_scatter/_version_cuda.so: undefined symbol: _ZN3c1017RegisterOperatorsD1Ev\n",
            "  warnings.warn(f\"An issue occurred while importing 'torch-scatter'. \"\n",
            "/usr/local/lib/python3.10/dist-packages/torch_geometric/typing.py:97: UserWarning: An issue occurred while importing 'torch-cluster'. Disabling its usage. Stacktrace: /usr/local/lib/python3.10/dist-packages/torch_cluster/_version_cuda.so: undefined symbol: _ZN3c1017RegisterOperatorsD1Ev\n",
            "  warnings.warn(f\"An issue occurred while importing 'torch-cluster'. \"\n",
            "/usr/local/lib/python3.10/dist-packages/torch_geometric/typing.py:113: UserWarning: An issue occurred while importing 'torch-spline-conv'. Disabling its usage. Stacktrace: /usr/local/lib/python3.10/dist-packages/torch_spline_conv/_version_cuda.so: undefined symbol: _ZN3c1017RegisterOperatorsD1Ev\n",
            "  warnings.warn(\n",
            "/usr/local/lib/python3.10/dist-packages/torch_geometric/typing.py:124: UserWarning: An issue occurred while importing 'torch-sparse'. Disabling its usage. Stacktrace: /usr/local/lib/python3.10/dist-packages/torch_sparse/_version_cuda.so: undefined symbol: _ZN3c1017RegisterOperatorsD1Ev\n",
            "  warnings.warn(f\"An issue occurred while importing 'torch-sparse'. \"\n"
          ]
        }
      ]
    },
    {
      "cell_type": "markdown",
      "source": [
        "#Load the ESOL dataset"
      ],
      "metadata": {
        "id": "QqRvGNxnsQ1T"
      },
      "id": "QqRvGNxnsQ1T"
    },
    {
      "cell_type": "markdown",
      "source": [
        "Load the ESOL dataset from the MoleculeNet library. It then extracts the SMILES representations of the molecules and their corresponding target values (y), storing them in SMILES_list and y_list respectively. The target values are converted from tensors to lists for better readability. Finally, it prints the first 10 entries from both lists to verify the extracted data."
      ],
      "metadata": {
        "id": "JPV3ggv9kYeK"
      },
      "id": "JPV3ggv9kYeK"
    },
    {
      "cell_type": "code",
      "source": [
        "# Load the ESOL dataset\n",
        "dataset = MoleculeNet(root=\".\", name=\"ESOL\")\n",
        "\n",
        "# Extract SMILES and target values from the dataset\n",
        "SMILES_list = [data.smiles for data in dataset]\n",
        "y_list = [data.y.tolist() for data in dataset]  # Convert tensor to list for better readability\n",
        "\n",
        "# Print the first few entries to verify\n",
        "print(\"SMILES_list:\", SMILES_list[:10])\n",
        "print(\"y_list:\", y_list[:10])"
      ],
      "metadata": {
        "colab": {
          "base_uri": "https://localhost:8080/"
        },
        "id": "VpzV2jKabSuB",
        "outputId": "7074f565-1dad-4805-e280-69eb4b40389e"
      },
      "id": "VpzV2jKabSuB",
      "execution_count": null,
      "outputs": [
        {
          "output_type": "stream",
          "name": "stderr",
          "text": [
            "Downloading https://deepchemdata.s3-us-west-1.amazonaws.com/datasets/delaney-processed.csv\n",
            "Processing...\n",
            "Done!\n"
          ]
        },
        {
          "output_type": "stream",
          "name": "stdout",
          "text": [
            "SMILES_list: ['OCC3OC(OCC2OC(OC(C#N)c1ccccc1)C(O)C(O)C2O)C(O)C(O)C3O ', 'Cc1occc1C(=O)Nc2ccccc2', 'CC(C)=CCCC(C)=CC(=O)', 'c1ccc2c(c1)ccc3c2ccc4c5ccccc5ccc43', 'c1ccsc1', 'c2ccc1scnc1c2 ', 'Clc1cc(Cl)c(c(Cl)c1)c2c(Cl)cccc2Cl', 'CC12CCC3C(CCc4cc(O)ccc34)C2CCC1O', 'ClC4=C(Cl)C5(Cl)C3C1CC(C2OC12)C3C4(Cl)C5(Cl)Cl', 'COc5cc4OCC3Oc2c1CC(Oc1ccc2C(=O)C3c4cc5OC)C(C)=C ']\n",
            "y_list: [[[-0.7699999809265137]], [[-3.299999952316284]], [[-2.059999942779541]], [[-7.869999885559082]], [[-1.3300000429153442]], [[-1.5]], [[-7.320000171661377]], [[-5.03000020980835]], [[-6.289999961853027]], [[-4.420000076293945]]]\n"
          ]
        }
      ]
    },
    {
      "cell_type": "markdown",
      "source": [
        "#Visualize a molecule"
      ],
      "metadata": {
        "id": "0V6VnUmYagZy"
      },
      "id": "0V6VnUmYagZy"
    },
    {
      "cell_type": "markdown",
      "source": [
        "This code imports the necessary functions from the RDKit library to handle chemical structures. It creates a molecule object from a SMILES string (the first entry in dataset[0][\"smiles\"]) using Chem.MolFromSmiles(). The molecule object is then displayed in an IPython notebook, allowing for graphical visualization of the molecule's structure."
      ],
      "metadata": {
        "id": "jfNtQnpGkrOs"
      },
      "id": "jfNtQnpGkrOs"
    },
    {
      "cell_type": "code",
      "execution_count": null,
      "id": "b6ef4e0a",
      "metadata": {
        "id": "b6ef4e0a",
        "outputId": "a36abed0-9010-4a55-d071-b9f831b5bd63",
        "colab": {
          "base_uri": "https://localhost:8080/",
          "height": 167
        }
      },
      "outputs": [
        {
          "output_type": "execute_result",
          "data": {
            "text/plain": [
              "<rdkit.Chem.rdchem.Mol at 0x7dfca049eff0>"
            ],
            "image/png": "[encoded data removed]"
          },
          "metadata": {},
          "execution_count": 8
        }
      ],
      "source": [
        "from rdkit import Chem\n",
        "from rdkit.Chem.Draw import IPythonConsole\n",
        "molecule = Chem.MolFromSmiles(dataset[0][\"smiles\"])\n",
        "molecule"
      ]
    },
    {
      "cell_type": "markdown",
      "source": [
        "# Defining the GNN"
      ],
      "metadata": {
        "id": "tSAgbtFKaoEB"
      },
      "id": "tSAgbtFKaoEB"
    },
    {
      "cell_type": "code",
      "source": [
        "import seaborn as sns\n",
        "import pandas as pd\n",
        "import numpy as np\n",
        "import matplotlib.pyplot as plt"
      ],
      "metadata": {
        "id": "XiMA-tuMh4M9"
      },
      "id": "XiMA-tuMh4M9",
      "execution_count": null,
      "outputs": []
    },
    {
      "cell_type": "code",
      "execution_count": null,
      "id": "15c33c6b",
      "metadata": {
        "id": "15c33c6b"
      },
      "outputs": [],
      "source": [
        "import torch\n",
        "import torch.nn as nn\n",
        "import torch.nn.functional as F\n",
        "from torch_geometric.data import Data, DataLoader\n",
        "from torch_geometric.nn import GATConv, CGConv, DynamicEdgeConv, GCNConv\n",
        "from torch_geometric.utils import add_self_loops\n",
        "from sklearn.model_selection import train_test_split\n",
        "from torch.nn import Linear\n",
        "from torch_geometric.nn import global_mean_pool as gap, global_max_pool as gmp\n",
        "import warnings\n",
        "warnings.filterwarnings(\"ignore\")"
      ]
    },
    {
      "cell_type": "code",
      "execution_count": null,
      "id": "07039ebd",
      "metadata": {
        "id": "07039ebd"
      },
      "outputs": [],
      "source": [
        "from rdkit import Chem\n",
        "from rdkit.Chem import rdMolHash\n",
        "from rdkit import DataStructs\n",
        "from rdkit.Chem import AllChem, Descriptors, rdMolDescriptors\n",
        "from rdkit.Chem import Draw"
      ]
    },
    {
      "cell_type": "markdown",
      "source": [
        "This code defines a Graph Convolutional Network (GCN) for processing graph-structured data using PyTorch.\n",
        "\n",
        "1. Model Architecture:\n",
        "\n",
        "- Embedding Size: The embedding size for the GCN layers is set to 64, which determines the dimensionality of the hidden features.\n",
        "- GCN Layers: The model consists of several graph convolution layers (GCNConv), which are responsible for learning node embeddings by aggregating information from neighbors in the graphs.\n",
        "- Global Pooling: After passing through the convolutional layers, the node embeddings are pooled using two global pooling operations: gmp (Global Max Pooling) and gap (Global Average Pooling). These operations aggregate node-level features into a single graph-level feature vector.\n",
        "- Output Layer: The pooled features are concatenated and passed through a final linear layer (out), which outputs a single value, possibly for regression or classification.\n",
        "2. Forward Pass:\n",
        "\n",
        "- The input features (x), edge index (edge_index), and batch index (batch_index) are passed through the GCN layers sequentially.\n",
        "- After each convolution, the hidden state is passed through a tanh activation function.\n",
        "- Global pooling is applied on the resulting node embeddings, followed by the output layer to make the final prediction.\n",
        "3. Model Instantiation:\n",
        "\n",
        "The model is initialized by creating an instance of the GCN class: model = GCN(). This model can then be trained and used for predictions on graph-structured data."
      ],
      "metadata": {
        "id": "ef6RkvB4lI8Z"
      },
      "id": "ef6RkvB4lI8Z"
    },
    {
      "cell_type": "code",
      "execution_count": null,
      "id": "c8be0922",
      "metadata": {
        "id": "c8be0922"
      },
      "outputs": [],
      "source": [
        "embedding_size = 64\n",
        "num_features=len(dataset.x[0])\n",
        "\n",
        "class GCN(torch.nn.Module):\n",
        "    def __init__(self):\n",
        "        # Init parent\n",
        "        super(GCN, self).__init__()\n",
        "        torch.manual_seed(42)\n",
        "\n",
        "        # GCN layers\n",
        "        self.initial_conv = GCNConv(num_features, embedding_size)\n",
        "        self.conv1 = GCNConv(embedding_size, embedding_size)\n",
        "        self.conv2 = GCNConv(embedding_size, embedding_size)\n",
        "        self.conv3 = GCNConv(embedding_size, embedding_size)\n",
        "\n",
        "        # Output layer\n",
        "        self.out = Linear(embedding_size*2, 1)\n",
        "\n",
        "    def forward(self, x, edge_index, batch_index):\n",
        "        # First Conv layer\n",
        "        hidden = self.initial_conv(x, edge_index)\n",
        "        hidden = F.tanh(hidden)\n",
        "\n",
        "        # Other Conv layers\n",
        "        hidden = self.conv1(hidden, edge_index)\n",
        "        hidden = F.tanh(hidden)\n",
        "        hidden = self.conv2(hidden, edge_index)\n",
        "        hidden = F.tanh(hidden)\n",
        "        hidden = self.conv3(hidden, edge_index)\n",
        "        hidden = F.tanh(hidden)\n",
        "\n",
        "        # Global Pooling (stack different aggregations)\n",
        "        hidden = torch.cat([gmp(hidden, batch_index),\n",
        "                            gap(hidden, batch_index)], dim=1)\n",
        "\n",
        "        # Apply a final (linear) classifier.\n",
        "        out = self.out(hidden)\n",
        "        return out, hidden\n",
        "model = GCN()"
      ]
    },
    {
      "cell_type": "markdown",
      "source": [
        "**Convolutional Layers** (https://pytorch-geometric.readthedocs.io/en/2.5.1/modules/nn.html):\n",
        "\n",
        "MessagePassing\n",
        "SimpleConv\n",
        "GCNConv\n",
        "ChebConv\n",
        "SAGEConv\n",
        "CuGraphSAGEConv\n",
        "GraphConv\n",
        "GravNetConv\n",
        "GatedGraphConv\n",
        "ResGatedGraphConv\n",
        "GATConv\n",
        "CuGraphGATConv\n",
        "FusedGATConv\n",
        "GATv2Conv\n",
        "TransformerConv\n",
        "AGNNConv\n",
        "TAGConv\n",
        "GINConv\n",
        "GINEConv\n",
        "ARMAConv\n",
        "SGConv\n",
        "SSGConv\n",
        "APPNP\n",
        "MFConv\n",
        "RGCNConv\n",
        "FastRGCNConv\n",
        "RGCNConv\n",
        "CuGraphRGCNConv\n",
        "RGATConv\n",
        "SignedConv\n",
        "DNAConv\n",
        "PointNetConv\n",
        "GMMConv\n",
        "SplineConv\n",
        "NNConv\n",
        "CGConv\n",
        "EdgeConv\n",
        "DynamicEdgeConv\n",
        "XConv\n",
        "PPFConv\n",
        "FeaStConv\n",
        "PointTransformerConv\n",
        "HypergraphConv\n",
        "LEConv\n",
        "PNAConv\n",
        "ClusterGCNConv\n",
        "GENConv\n",
        "GCN2Conv\n",
        "PANConv\n",
        "WLConv\n",
        "WLConvContinuous\n",
        "FiLMConv\n",
        "SuperGATConv\n",
        "FAConv\n",
        "EGConv\n",
        "PDNConv\n",
        "GeneralConv\n",
        "HGTConv\n",
        "HEATConv\n",
        "HeteroConv\n",
        "HANConv\n",
        "LGConv\n",
        "PointGNNConv\n",
        "GPSConv\n",
        "AntiSymmetricConv\n",
        "DirGNNConv\n",
        "MixHopConv"
      ],
      "metadata": {
        "id": "q4wEPdj9rHsF"
      },
      "id": "q4wEPdj9rHsF"
    },
    {
      "cell_type": "markdown",
      "source": [
        "**Print structure of the GNN model**"
      ],
      "metadata": {
        "id": "NjhcTHZPd50i"
      },
      "id": "NjhcTHZPd50i"
    },
    {
      "cell_type": "code",
      "source": [
        "print(model)\n",
        "print(\"Number of parameters: \", sum(p.numel() for p in model.parameters()))"
      ],
      "metadata": {
        "id": "3zdtliUWd4qP",
        "colab": {
          "base_uri": "https://localhost:8080/"
        },
        "outputId": "eb811ffd-81be-4ab7-d23c-021d13704a97"
      },
      "id": "3zdtliUWd4qP",
      "execution_count": null,
      "outputs": [
        {
          "output_type": "stream",
          "name": "stdout",
          "text": [
            "GCN(\n",
            "  (initial_conv): GCNConv(9, 64)\n",
            "  (conv1): GCNConv(64, 64)\n",
            "  (conv2): GCNConv(64, 64)\n",
            "  (conv3): GCNConv(64, 64)\n",
            "  (out): Linear(in_features=128, out_features=1, bias=True)\n",
            ")\n",
            "Number of parameters:  13249\n"
          ]
        }
      ]
    },
    {
      "cell_type": "markdown",
      "source": [
        "[link text](https://arxiv.org/pdf/1901.00596)"
      ],
      "metadata": {
        "id": "456RcFfR7Hv1"
      },
      "id": "456RcFfR7Hv1"
    },
    {
      "cell_type": "markdown",
      "source": [
        "**Root mean squared error**"
      ],
      "metadata": {
        "id": "NBiSGE4vePCx"
      },
      "id": "NBiSGE4vePCx"
    },
    {
      "cell_type": "markdown",
      "source": [
        "This code sets up the loss function and optimizer for training a GNN model.\n",
        "\n",
        "Loss Function (MSELoss):\n",
        "\n",
        "- loss_fn = torch.nn.MSELoss() creates a Mean Squared Error (MSE) loss function. This is typically used for regression tasks where the goal is to minimize the squared differences between predicted and true values.\n",
        "Optimizer (Adam):\n",
        "\n",
        "- optimizer = torch.optim.Adam(model.parameters(), lr=0.0007) initializes the Adam optimizer, which is an adaptive learning rate optimization algorithm. It is set to update the parameters of the model (model.parameters()) with a learning rate of 0.0007. Adam is commonly used for training deep learning models due to its efficiency in handling sparse gradients and noisy data."
      ],
      "metadata": {
        "id": "uFF39KKslwAr"
      },
      "id": "uFF39KKslwAr"
    },
    {
      "cell_type": "markdown",
      "source": [
        "Options to select optimizer (https://pytorch.org/docs/main/optim.html):\n",
        "\n",
        "Adadelta\n",
        "Adafactor\n",
        "Adagrad\n",
        "Adam\n",
        "AdamW\n",
        "SparseAdam\n",
        "Adamax\n",
        "ASGD\n",
        "LBFGS\n",
        "NAdam\n",
        "RAdam\n",
        "RMSprop\n",
        "Rprop\n",
        "SGD"
      ],
      "metadata": {
        "id": "FansR8R6l93o"
      },
      "id": "FansR8R6l93o"
    },
    {
      "cell_type": "code",
      "source": [
        "loss_fn = torch.nn.MSELoss()\n",
        "optimizer = torch.optim.Adam(model.parameters(), lr=0.0007)"
      ],
      "metadata": {
        "id": "nZrOOoPOeNMJ"
      },
      "id": "nZrOOoPOeNMJ",
      "execution_count": null,
      "outputs": []
    },
    {
      "cell_type": "markdown",
      "source": [
        "**Use GPU for training**"
      ],
      "metadata": {
        "id": "a187x_GBeP1j"
      },
      "id": "a187x_GBeP1j"
    },
    {
      "cell_type": "markdown",
      "source": [
        "This code sets up the device for model training, allowing it to run on either a GPU or CPU depending on availability.\n",
        "\n",
        "Device Setup:\n",
        "\n",
        "- device = torch.device(\"cuda:0\" if torch.cuda.is_available() else \"cpu\") checks if a GPU (CUDA-enabled device) is available. If so, it sets the device to the first GPU (cuda:0); otherwise, it defaults to using the CPU (cpu).\n",
        "Move Model to Device:\n",
        "\n",
        "- model = model.to(device) moves the model to the selected device (GPU or CPU), ensuring that computations (such as forward passes and gradient updates) occur on the appropriate hardware. This is crucial for utilizing GPU acceleration during training if available."
      ],
      "metadata": {
        "id": "KoveSVAKmuf8"
      },
      "id": "KoveSVAKmuf8"
    },
    {
      "cell_type": "code",
      "source": [
        "device = torch.device(\"cuda:0\" if torch.cuda.is_available() else \"cpu\")\n",
        "model = model.to(device)"
      ],
      "metadata": {
        "id": "QKl6YmcXeNR5"
      },
      "id": "QKl6YmcXeNR5",
      "execution_count": null,
      "outputs": []
    },
    {
      "cell_type": "markdown",
      "source": [
        "**Wrap data in a data loader**"
      ],
      "metadata": {
        "id": "d6BSTuJYeQoJ"
      },
      "id": "d6BSTuJYeQoJ"
    },
    {
      "cell_type": "markdown",
      "source": [
        "This code sets up data loaders for batching and shuffling the dataset for training and testing.\n",
        "\n",
        "Data Size:\n",
        "\n",
        "- data_size = len(data) calculates the total number of data points (graphs) in the dataset.\n",
        "Batching:\n",
        "\n",
        "- NUM_GRAPHS_PER_BATCH = 64 defines the number of graphs per batch for both training and testing.\n",
        "Training DataLoader:\n",
        "\n",
        "- loader = DataLoader(data[:int(data_size * 0.8)], batch_size=NUM_GRAPHS_PER_BATCH, shuffle=True) creates a DataLoader for the training set, consisting of the first 80% of the dataset (data[:int(data_size * 0.8)]). The data is shuffled and divided into batches of 64 graphs.\n",
        "Testing DataLoader:\n",
        "\n",
        "- test_loader = DataLoader(data[int(data_size * 0.8):], batch_size=NUM_GRAPHS_PER_BATCH, shuffle=True) creates a DataLoader for the test set, which contains the remaining 20% of the data (data[int(data_size * 0.8):]). It also shuffles the data and uses a batch size of 64 graphs."
      ],
      "metadata": {
        "id": "dPIdciwVm-_r"
      },
      "id": "dPIdciwVm-_r"
    },
    {
      "cell_type": "code",
      "source": [
        "data_size = len(dataset)\n",
        "NUM_GRAPHS_PER_BATCH = 64\n",
        "loader = DataLoader(dataset[:int(data_size * 0.8)],\n",
        "                    batch_size=NUM_GRAPHS_PER_BATCH, shuffle=True)\n",
        "test_loader = DataLoader(dataset[int(data_size * 0.8):],\n",
        "                         batch_size=NUM_GRAPHS_PER_BATCH, shuffle=True)"
      ],
      "metadata": {
        "id": "baCKlF5BeNbq"
      },
      "id": "baCKlF5BeNbq",
      "execution_count": null,
      "outputs": []
    },
    {
      "cell_type": "markdown",
      "source": [
        "**Train the model**"
      ],
      "metadata": {
        "id": "o3N3B6Gvek1U"
      },
      "id": "o3N3B6Gvek1U"
    },
    {
      "cell_type": "markdown",
      "source": [
        "\n",
        "This code defines a training process for the GNN and trains it for multiple epochs.\n",
        "\n",
        "Train Function (train(data)):\n",
        "\n",
        "- The function iterates through batches of data from the loader.\n",
        "GPU Assignment: Each batch is moved to the selected device (GPU or CPU) using batch.to(device).\n",
        "- Gradient Reset: Before computing the new gradients, optimizer.zero_grad() clears any accumulated gradients from previous iterations.\n",
        "- Model Prediction: The node features (batch.x), edge indices (batch.edge_index), and batch indices (batch.batch) are passed into the model, which returns predicted values (pred) and embeddings (embedding).\n",
        "- Loss Calculation and Backpropagation: The loss is computed between the model's predictions and the actual target labels (batch.y). The gradients are computed with loss.backward().\n",
        "- Parameter Update: The optimizer updates the model’s weights with optimizer.step() based on the gradients.\n",
        "\n",
        "Training Loop:\n",
        "\n",
        "- The model is trained for 2000 epochs. After each epoch, the loss is stored in the losses list. Every 100 epochs, the current epoch number and loss are printed.\n",
        "- This loop continuously updates the model’s parameters to minimize the loss over the training dataset."
      ],
      "metadata": {
        "id": "7gkA5ZC3nVNJ"
      },
      "id": "7gkA5ZC3nVNJ"
    },
    {
      "cell_type": "code",
      "execution_count": null,
      "id": "15070658",
      "metadata": {
        "id": "15070658",
        "outputId": "e66e95e8-1248-4109-871e-8c53d3776f2d",
        "colab": {
          "base_uri": "https://localhost:8080/"
        }
      },
      "outputs": [
        {
          "output_type": "stream",
          "name": "stdout",
          "text": [
            "Starting training...\n",
            "Epoch 0 | Train Loss 2.2801513671875\n",
            "Epoch 100 | Train Loss 1.5900605916976929\n",
            "Epoch 200 | Train Loss 0.3397570848464966\n",
            "Epoch 300 | Train Loss 0.26902246475219727\n",
            "Epoch 400 | Train Loss 0.6930601596832275\n",
            "Epoch 500 | Train Loss 0.3837786614894867\n",
            "Epoch 600 | Train Loss 0.4864851236343384\n",
            "Epoch 700 | Train Loss 0.09255275130271912\n",
            "Epoch 800 | Train Loss 0.29216933250427246\n",
            "Epoch 900 | Train Loss 0.42431601881980896\n",
            "Epoch 1000 | Train Loss 0.2838743031024933\n",
            "Epoch 1100 | Train Loss 0.28122764825820923\n",
            "Epoch 1200 | Train Loss 0.0821048840880394\n",
            "Epoch 1300 | Train Loss 0.33463290333747864\n",
            "Epoch 1400 | Train Loss 0.027405941858887672\n",
            "Epoch 1500 | Train Loss 0.2494744062423706\n",
            "Epoch 1600 | Train Loss 0.0881059467792511\n",
            "Epoch 1700 | Train Loss 0.05759221315383911\n",
            "Epoch 1800 | Train Loss 0.04714632034301758\n",
            "Epoch 1900 | Train Loss 0.02526947855949402\n"
          ]
        }
      ],
      "source": [
        "def train(dataset):\n",
        "    # Enumerate over the data\n",
        "    for batch in loader:\n",
        "      # Use GPU\n",
        "      batch.to(device)\n",
        "      # Reset gradients\n",
        "      optimizer.zero_grad()\n",
        "      # Passing the node features and the connection info\n",
        "      pred, embedding = model(batch.x.float(), batch.edge_index, batch.batch)\n",
        "      # Calculating the loss and gradients\n",
        "      loss = loss_fn(pred, batch.y)\n",
        "      loss.backward()\n",
        "      # Update using the gradients\n",
        "      optimizer.step()\n",
        "    return loss, embedding\n",
        "\n",
        "print(\"Starting training...\")\n",
        "losses = []\n",
        "for epoch in range(2000):\n",
        "    loss, h = train(dataset)\n",
        "    losses.append(loss)\n",
        "    if epoch % 100 == 0:\n",
        "      print(f\"Epoch {epoch} | Train Loss {loss}\")"
      ]
    },
    {
      "cell_type": "markdown",
      "source": [
        "**Visualize learning (training loss)**"
      ],
      "metadata": {
        "id": "EUCinX5yepH7"
      },
      "id": "EUCinX5yepH7"
    },
    {
      "cell_type": "markdown",
      "source": [
        "\n",
        "- Convert Losses to Floats:\n",
        "\n",
        "losses_float = [float(loss.cpu().detach().numpy()) for loss in losses] converts the list of losses from tensors to Python floats. This involves moving the loss from the GPU to the CPU (loss.cpu()), detaching it from the computation graph (loss.detach()), and then converting it to a NumPy array and finally a float.\n",
        "- Loss Indices:\n",
        "\n",
        "loss_indices = [i for i, l in enumerate(losses_float)] generates a list of indices for the loss values, representing the epoch number or training step at which each loss was recorded.\n",
        "- Plotting:\n",
        "\n",
        "plt = sns.lineplot(loss_indices, losses_float) uses Seaborn (sns) to create a line plot, where the x-axis represents the epoch indices (loss_indices), and the y-axis shows the corresponding loss values (losses_float).\n",
        "- Display Plot:\n",
        "\n",
        "plt displays the line plot showing how the loss evolves over training epochs."
      ],
      "metadata": {
        "id": "nB1-0Uyin_Jd"
      },
      "id": "nB1-0Uyin_Jd"
    },
    {
      "cell_type": "code",
      "source": [
        "# Convert losses to float and extract indices\n",
        "losses_float = [float(loss.cpu().detach().numpy()) for loss in losses]\n",
        "loss_indices = [i for i, l in enumerate(losses_float)]\n",
        "\n",
        "# Plot using seaborn, specifying x and y as keyword arguments\n",
        "plt = sns.lineplot(x=loss_indices, y=losses_float)\n",
        "plt"
      ],
      "metadata": {
        "colab": {
          "base_uri": "https://localhost:8080/",
          "height": 447
        },
        "id": "K3Hhmnvu2jUY",
        "outputId": "f37082b4-1667-4448-e0d4-f35a1a12caa5"
      },
      "id": "K3Hhmnvu2jUY",
      "execution_count": null,
      "outputs": [
        {
          "output_type": "execute_result",
          "data": {
            "text/plain": [
              "<Axes: >"
            ]
          },
          "metadata": {},
          "execution_count": 25
        },
        {
          "output_type": "display_data",
          "data": {
            "text/plain": [
              "<Figure size 640x480 with 1 Axes>"
            ],
            "image/png": "[encoded data removed]"
          },
          "metadata": {}
        }
      ]
    },
    {
      "cell_type": "markdown",
      "source": [
        "**Analyze the results for one batch**"
      ],
      "metadata": {
        "id": "DmxtZ8sle8kN"
      },
      "id": "DmxtZ8sle8kN"
    },
    {
      "cell_type": "markdown",
      "source": [
        "\n",
        "This code performs inference on a batch from the test set and prepares the results for comparison.\n",
        "\n",
        "- Fetch a Test Batch:\n",
        "\n",
        "test_batch = next(iter(test_loader)) retrieves the next batch of data from the test data loader.\n",
        "- Disable Gradient Calculation:\n",
        "\n",
        "with torch.no_grad(): ensures that no gradients are computed during inference, saving memory and computation time.\n",
        "- Move Batch to Device:\n",
        "\n",
        "test_batch.to(device) moves the test batch to the appropriate device (GPU or CPU) for model inference.\n",
        "- Model Inference:\n",
        "\n",
        "pred, embed = model(test_batch.x.float(), test_batch.edge_index, test_batch.batch) passes the test batch (containing node features x, edge indices edge_index, and batch indices batch) through the model, generating predictions (pred) and embeddings (embed).\n",
        "- Create DataFrame:\n",
        "\n",
        "df = pd.DataFrame() initializes a new Pandas DataFrame.\n",
        "The true labels (test_batch.y) and predicted values (pred) are converted to lists and stored in the DataFrame as columns y_real and y_pred.\n",
        "- Flattening Lists:\n",
        "\n",
        "df[\"y_real\"] = df[\"y_real\"].apply(lambda row: row[0]) and df[\"y_pred\"] = df[\"y_pred\"].apply(lambda row: row[0]) flatten the values in y_real and y_pred, which may have been returned as lists or tensors, into scalar values.\n",
        "- Final Output:\n",
        "\n",
        "The DataFrame df is returned, showing the actual (y_real) and predicted (y_pred) values, which can be used for further analysis or evaluation."
      ],
      "metadata": {
        "id": "BDihiKv3oo7E"
      },
      "id": "BDihiKv3oo7E"
    },
    {
      "cell_type": "code",
      "execution_count": null,
      "id": "03f638f3",
      "metadata": {
        "id": "03f638f3",
        "outputId": "37b37a7c-c601-4bb1-a4bf-e2bf9b7761b3",
        "colab": {
          "base_uri": "https://localhost:8080/",
          "height": 423
        }
      },
      "outputs": [
        {
          "output_type": "execute_result",
          "data": {
            "text/plain": [
              "    y_real    y_pred\n",
              "0   -0.800 -0.569509\n",
              "1   -3.928 -3.395912\n",
              "2   -3.246 -3.430412\n",
              "3   -0.742 -1.847818\n",
              "4   -6.250 -7.179924\n",
              "..     ...       ...\n",
              "59  -4.114 -5.247584\n",
              "60  -5.160 -5.310246\n",
              "61  -4.100 -3.328458\n",
              "62  -6.140 -7.286493\n",
              "63  -2.580 -2.702934\n",
              "\n",
              "[64 rows x 2 columns]"
            ],
            "text/html": [
              "\n",
              "  <div id=\"df-4f46f969-aa7c-47bb-ba8d-3982625655be\" class=\"colab-df-container\">\n",
              "    <div>\n",
              "<style scoped>\n",
              "    .dataframe tbody tr th:only-of-type {\n",
              "        vertical-align: middle;\n",
              "    }\n",
              "\n",
              "    .dataframe tbody tr th {\n",
              "        vertical-align: top;\n",
              "    }\n",
              "\n",
              "    .dataframe thead th {\n",
              "        text-align: right;\n",
              "    }\n",
              "</style>\n",
              "<table border=\"1\" class=\"dataframe\">\n",
              "  <thead>\n",
              "    <tr style=\"text-align: right;\">\n",
              "      <th></th>\n",
              "      <th>y_real</th>\n",
              "      <th>y_pred</th>\n",
              "    </tr>\n",
              "  </thead>\n",
              "  <tbody>\n",
              "    <tr>\n",
              "      <th>0</th>\n",
              "      <td>-0.800</td>\n",
              "      <td>-0.569509</td>\n",
              "    </tr>\n",
              "    <tr>\n",
              "      <th>1</th>\n",
              "      <td>-3.928</td>\n",
              "      <td>-3.395912</td>\n",
              "    </tr>\n",
              "    <tr>\n",
              "      <th>2</th>\n",
              "      <td>-3.246</td>\n",
              "      <td>-3.430412</td>\n",
              "    </tr>\n",
              "    <tr>\n",
              "      <th>3</th>\n",
              "      <td>-0.742</td>\n",
              "      <td>-1.847818</td>\n",
              "    </tr>\n",
              "    <tr>\n",
              "      <th>4</th>\n",
              "      <td>-6.250</td>\n",
              "      <td>-7.179924</td>\n",
              "    </tr>\n",
              "    <tr>\n",
              "      <th>...</th>\n",
              "      <td>...</td>\n",
              "      <td>...</td>\n",
              "    </tr>\n",
              "    <tr>\n",
              "      <th>59</th>\n",
              "      <td>-4.114</td>\n",
              "      <td>-5.247584</td>\n",
              "    </tr>\n",
              "    <tr>\n",
              "      <th>60</th>\n",
              "      <td>-5.160</td>\n",
              "      <td>-5.310246</td>\n",
              "    </tr>\n",
              "    <tr>\n",
              "      <th>61</th>\n",
              "      <td>-4.100</td>\n",
              "      <td>-3.328458</td>\n",
              "    </tr>\n",
              "    <tr>\n",
              "      <th>62</th>\n",
              "      <td>-6.140</td>\n",
              "      <td>-7.286493</td>\n",
              "    </tr>\n",
              "    <tr>\n",
              "      <th>63</th>\n",
              "      <td>-2.580</td>\n",
              "      <td>-2.702934</td>\n",
              "    </tr>\n",
              "  </tbody>\n",
              "</table>\n",
              "<p>64 rows × 2 columns</p>\n",
              "</div>\n",
              "    <div class=\"colab-df-buttons\">\n",
              "\n",
              "  <div class=\"colab-df-container\">\n",
              "    <button class=\"colab-df-convert\" onclick=\"convertToInteractive('df-4f46f969-aa7c-47bb-ba8d-3982625655be')\"\n",
              "            title=\"Convert this dataframe to an interactive table.\"\n",
              "            style=\"display:none;\">\n",
              "\n",
              "  <svg xmlns=\"http://www.w3.org/2000/svg\" height=\"24px\" viewBox=\"0 -960 960 960\">\n",
              "    <path d=\"M120-120v-720h720v720H120Zm60-500h600v-160H180v160Zm220 220h160v-160H400v160Zm0 220h160v-160H400v160ZM180-400h160v-160H180v160Zm440 0h160v-160H620v160ZM180-180h160v-160H180v160Zm440 0h160v-160H620v160Z\"/>\n",
              "  </svg>\n",
              "    </button>\n",
              "\n",
              "  <style>\n",
              "    .colab-df-container {\n",
              "      display:flex;\n",
              "      gap: 12px;\n",
              "    }\n",
              "\n",
              "    .colab-df-convert {\n",
              "      background-color: #E8F0FE;\n",
              "      border: none;\n",
              "      border-radius: 50%;\n",
              "      cursor: pointer;\n",
              "      display: none;\n",
              "      fill: #1967D2;\n",
              "      height: 32px;\n",
              "      padding: 0 0 0 0;\n",
              "      width: 32px;\n",
              "    }\n",
              "\n",
              "    .colab-df-convert:hover {\n",
              "      background-color: #E2EBFA;\n",
              "      box-shadow: 0px 1px 2px rgba(60, 64, 67, 0.3), 0px 1px 3px 1px rgba(60, 64, 67, 0.15);\n",
              "      fill: #174EA6;\n",
              "    }\n",
              "\n",
              "    .colab-df-buttons div {\n",
              "      margin-bottom: 4px;\n",
              "    }\n",
              "\n",
              "    [theme=dark] .colab-df-convert {\n",
              "      background-color: #3B4455;\n",
              "      fill: #D2E3FC;\n",
              "    }\n",
              "\n",
              "    [theme=dark] .colab-df-convert:hover {\n",
              "      background-color: #434B5C;\n",
              "      box-shadow: 0px 1px 3px 1px rgba(0, 0, 0, 0.15);\n",
              "      filter: drop-shadow(0px 1px 2px rgba(0, 0, 0, 0.3));\n",
              "      fill: #FFFFFF;\n",
              "    }\n",
              "  </style>\n",
              "\n",
              "    <script>\n",
              "      const buttonEl =\n",
              "        document.querySelector('#df-4f46f969-aa7c-47bb-ba8d-3982625655be button.colab-df-convert');\n",
              "      buttonEl.style.display =\n",
              "        google.colab.kernel.accessAllowed ? 'block' : 'none';\n",
              "\n",
              "      async function convertToInteractive(key) {\n",
              "        const element = document.querySelector('#df-4f46f969-aa7c-47bb-ba8d-3982625655be');\n",
              "        const dataTable =\n",
              "          await google.colab.kernel.invokeFunction('convertToInteractive',\n",
              "                                                    [key], {});\n",
              "        if (!dataTable) return;\n",
              "\n",
              "        const docLinkHtml = 'Like what you see? Visit the ' +\n",
              "          '<a target=\"_blank\" href=https://colab.research.google.com/notebooks/data_table.ipynb>data table notebook</a>'\n",
              "          + ' to learn more about interactive tables.';\n",
              "        element.innerHTML = '';\n",
              "        dataTable['output_type'] = 'display_data';\n",
              "        await google.colab.output.renderOutput(dataTable, element);\n",
              "        const docLink = document.createElement('div');\n",
              "        docLink.innerHTML = docLinkHtml;\n",
              "        element.appendChild(docLink);\n",
              "      }\n",
              "    </script>\n",
              "  </div>\n",
              "\n",
              "\n",
              "<div id=\"df-79619da0-fa87-4e06-94f3-70b0d961187c\">\n",
              "  <button class=\"colab-df-quickchart\" onclick=\"quickchart('df-79619da0-fa87-4e06-94f3-70b0d961187c')\"\n",
              "            title=\"Suggest charts\"\n",
              "            style=\"display:none;\">\n",
              "\n",
              "<svg xmlns=\"http://www.w3.org/2000/svg\" height=\"24px\"viewBox=\"0 0 24 24\"\n",
              "     width=\"24px\">\n",
              "    <g>\n",
              "        <path d=\"M19 3H5c-1.1 0-2 .9-2 2v14c0 1.1.9 2 2 2h14c1.1 0 2-.9 2-2V5c0-1.1-.9-2-2-2zM9 17H7v-7h2v7zm4 0h-2V7h2v10zm4 0h-2v-4h2v4z\"/>\n",
              "    </g>\n",
              "</svg>\n",
              "  </button>\n",
              "\n",
              "<style>\n",
              "  .colab-df-quickchart {\n",
              "      --bg-color: #E8F0FE;\n",
              "      --fill-color: #1967D2;\n",
              "      --hover-bg-color: #E2EBFA;\n",
              "      --hover-fill-color: #174EA6;\n",
              "      --disabled-fill-color: #AAA;\n",
              "      --disabled-bg-color: #DDD;\n",
              "  }\n",
              "\n",
              "  [theme=dark] .colab-df-quickchart {\n",
              "      --bg-color: #3B4455;\n",
              "      --fill-color: #D2E3FC;\n",
              "      --hover-bg-color: #434B5C;\n",
              "      --hover-fill-color: #FFFFFF;\n",
              "      --disabled-bg-color: #3B4455;\n",
              "      --disabled-fill-color: #666;\n",
              "  }\n",
              "\n",
              "  .colab-df-quickchart {\n",
              "    background-color: var(--bg-color);\n",
              "    border: none;\n",
              "    border-radius: 50%;\n",
              "    cursor: pointer;\n",
              "    display: none;\n",
              "    fill: var(--fill-color);\n",
              "    height: 32px;\n",
              "    padding: 0;\n",
              "    width: 32px;\n",
              "  }\n",
              "\n",
              "  .colab-df-quickchart:hover {\n",
              "    background-color: var(--hover-bg-color);\n",
              "    box-shadow: 0 1px 2px rgba(60, 64, 67, 0.3), 0 1px 3px 1px rgba(60, 64, 67, 0.15);\n",
              "    fill: var(--button-hover-fill-color);\n",
              "  }\n",
              "\n",
              "  .colab-df-quickchart-complete:disabled,\n",
              "  .colab-df-quickchart-complete:disabled:hover {\n",
              "    background-color: var(--disabled-bg-color);\n",
              "    fill: var(--disabled-fill-color);\n",
              "    box-shadow: none;\n",
              "  }\n",
              "\n",
              "  .colab-df-spinner {\n",
              "    border: 2px solid var(--fill-color);\n",
              "    border-color: transparent;\n",
              "    border-bottom-color: var(--fill-color);\n",
              "    animation:\n",
              "      spin 1s steps(1) infinite;\n",
              "  }\n",
              "\n",
              "  @keyframes spin {\n",
              "    0% {\n",
              "      border-color: transparent;\n",
              "      border-bottom-color: var(--fill-color);\n",
              "      border-left-color: var(--fill-color);\n",
              "    }\n",
              "    20% {\n",
              "      border-color: transparent;\n",
              "      border-left-color: var(--fill-color);\n",
              "      border-top-color: var(--fill-color);\n",
              "    }\n",
              "    30% {\n",
              "      border-color: transparent;\n",
              "      border-left-color: var(--fill-color);\n",
              "      border-top-color: var(--fill-color);\n",
              "      border-right-color: var(--fill-color);\n",
              "    }\n",
              "    40% {\n",
              "      border-color: transparent;\n",
              "      border-right-color: var(--fill-color);\n",
              "      border-top-color: var(--fill-color);\n",
              "    }\n",
              "    60% {\n",
              "      border-color: transparent;\n",
              "      border-right-color: var(--fill-color);\n",
              "    }\n",
              "    80% {\n",
              "      border-color: transparent;\n",
              "      border-right-color: var(--fill-color);\n",
              "      border-bottom-color: var(--fill-color);\n",
              "    }\n",
              "    90% {\n",
              "      border-color: transparent;\n",
              "      border-bottom-color: var(--fill-color);\n",
              "    }\n",
              "  }\n",
              "</style>\n",
              "\n",
              "  <script>\n",
              "    async function quickchart(key) {\n",
              "      const quickchartButtonEl =\n",
              "        document.querySelector('#' + key + ' button');\n",
              "      quickchartButtonEl.disabled = true;  // To prevent multiple clicks.\n",
              "      quickchartButtonEl.classList.add('colab-df-spinner');\n",
              "      try {\n",
              "        const charts = await google.colab.kernel.invokeFunction(\n",
              "            'suggestCharts', [key], {});\n",
              "      } catch (error) {\n",
              "        console.error('Error during call to suggestCharts:', error);\n",
              "      }\n",
              "      quickchartButtonEl.classList.remove('colab-df-spinner');\n",
              "      quickchartButtonEl.classList.add('colab-df-quickchart-complete');\n",
              "    }\n",
              "    (() => {\n",
              "      let quickchartButtonEl =\n",
              "        document.querySelector('#df-79619da0-fa87-4e06-94f3-70b0d961187c button');\n",
              "      quickchartButtonEl.style.display =\n",
              "        google.colab.kernel.accessAllowed ? 'block' : 'none';\n",
              "    })();\n",
              "  </script>\n",
              "</div>\n",
              "\n",
              "  <div id=\"id_d3d6c079-8bf0-4393-90d3-9ed3de9daca7\">\n",
              "    <style>\n",
              "      .colab-df-generate {\n",
              "        background-color: #E8F0FE;\n",
              "        border: none;\n",
              "        border-radius: 50%;\n",
              "        cursor: pointer;\n",
              "        display: none;\n",
              "        fill: #1967D2;\n",
              "        height: 32px;\n",
              "        padding: 0 0 0 0;\n",
              "        width: 32px;\n",
              "      }\n",
              "\n",
              "      .colab-df-generate:hover {\n",
              "        background-color: #E2EBFA;\n",
              "        box-shadow: 0px 1px 2px rgba(60, 64, 67, 0.3), 0px 1px 3px 1px rgba(60, 64, 67, 0.15);\n",
              "        fill: #174EA6;\n",
              "      }\n",
              "\n",
              "      [theme=dark] .colab-df-generate {\n",
              "        background-color: #3B4455;\n",
              "        fill: #D2E3FC;\n",
              "      }\n",
              "\n",
              "      [theme=dark] .colab-df-generate:hover {\n",
              "        background-color: #434B5C;\n",
              "        box-shadow: 0px 1px 3px 1px rgba(0, 0, 0, 0.15);\n",
              "        filter: drop-shadow(0px 1px 2px rgba(0, 0, 0, 0.3));\n",
              "        fill: #FFFFFF;\n",
              "      }\n",
              "    </style>\n",
              "    <button class=\"colab-df-generate\" onclick=\"generateWithVariable('df')\"\n",
              "            title=\"Generate code using this dataframe.\"\n",
              "            style=\"display:none;\">\n",
              "\n",
              "  <svg xmlns=\"http://www.w3.org/2000/svg\" height=\"24px\"viewBox=\"0 0 24 24\"\n",
              "       width=\"24px\">\n",
              "    <path d=\"M7,19H8.4L18.45,9,17,7.55,7,17.6ZM5,21V16.75L18.45,3.32a2,2,0,0,1,2.83,0l1.4,1.43a1.91,1.91,0,0,1,.58,1.4,1.91,1.91,0,0,1-.58,1.4L9.25,21ZM18.45,9,17,7.55Zm-12,3A5.31,5.31,0,0,0,4.9,8.1,5.31,5.31,0,0,0,1,6.5,5.31,5.31,0,0,0,4.9,4.9,5.31,5.31,0,0,0,6.5,1,5.31,5.31,0,0,0,8.1,4.9,5.31,5.31,0,0,0,12,6.5,5.46,5.46,0,0,0,6.5,12Z\"/>\n",
              "  </svg>\n",
              "    </button>\n",
              "    <script>\n",
              "      (() => {\n",
              "      const buttonEl =\n",
              "        document.querySelector('#id_d3d6c079-8bf0-4393-90d3-9ed3de9daca7 button.colab-df-generate');\n",
              "      buttonEl.style.display =\n",
              "        google.colab.kernel.accessAllowed ? 'block' : 'none';\n",
              "\n",
              "      buttonEl.onclick = () => {\n",
              "        google.colab.notebook.generateWithVariable('df');\n",
              "      }\n",
              "      })();\n",
              "    </script>\n",
              "  </div>\n",
              "\n",
              "    </div>\n",
              "  </div>\n"
            ],
            "application/vnd.google.colaboratory.intrinsic+json": {
              "type": "dataframe",
              "variable_name": "df",
              "summary": "{\n  \"name\": \"df\",\n  \"rows\": 64,\n  \"fields\": [\n    {\n      \"column\": \"y_real\",\n      \"properties\": {\n        \"dtype\": \"number\",\n        \"std\": 2.041260578285055,\n        \"min\": -6.63700008392334,\n        \"max\": 0.9399999976158142,\n        \"num_unique_values\": 62,\n        \"samples\": [\n          0.10000000149011612,\n          -5.159999847412109,\n          -0.800000011920929\n        ],\n        \"semantic_type\": \"\",\n        \"description\": \"\"\n      }\n    },\n    {\n      \"column\": \"y_pred\",\n      \"properties\": {\n        \"dtype\": \"number\",\n        \"std\": 2.13069324755495,\n        \"min\": -7.286492824554443,\n        \"max\": 1.0727177858352661,\n        \"num_unique_values\": 64,\n        \"samples\": [\n          -1.6407804489135742,\n          -2.1251437664031982,\n          -0.5695090889930725\n        ],\n        \"semantic_type\": \"\",\n        \"description\": \"\"\n      }\n    }\n  ]\n}"
            }
          },
          "metadata": {},
          "execution_count": 26
        }
      ],
      "source": [
        "test_batch = next(iter(test_loader))\n",
        "with torch.no_grad():\n",
        "    test_batch.to(device)\n",
        "    pred, embed = model(test_batch.x.float(), test_batch.edge_index, test_batch.batch)\n",
        "    df = pd.DataFrame()\n",
        "    df[\"y_real\"] = test_batch.y.tolist()\n",
        "    df[\"y_pred\"] = pred.tolist()\n",
        "df[\"y_real\"] = df[\"y_real\"].apply(lambda row: row[0])\n",
        "df[\"y_pred\"] = df[\"y_pred\"].apply(lambda row: row[0])\n",
        "df"
      ]
    },
    {
      "cell_type": "markdown",
      "source": [
        "**Plot the predictions**"
      ],
      "metadata": {
        "id": "phwTQ_NOfC-H"
      },
      "id": "phwTQ_NOfC-H"
    },
    {
      "cell_type": "code",
      "execution_count": null,
      "id": "f12a3874",
      "metadata": {
        "id": "f12a3874",
        "outputId": "88f2f508-be32-4837-9123-b5b08bd2473f",
        "colab": {
          "base_uri": "https://localhost:8080/",
          "height": 472
        }
      },
      "outputs": [
        {
          "output_type": "execute_result",
          "data": {
            "text/plain": [
              "<Axes: xlabel='y_real', ylabel='y_pred'>"
            ]
          },
          "metadata": {},
          "execution_count": 27
        },
        {
          "output_type": "display_data",
          "data": {
            "text/plain": [
              "<Figure size 640x480 with 1 Axes>"
            ],
            "image/png": "[encoded data removed]"
          },
          "metadata": {}
        }
      ],
      "source": [
        "plt = sns.scatterplot(data=df, x=\"y_real\", y=\"y_pred\")\n",
        "plt.set(xlim=(-7, 2))\n",
        "plt.set(ylim=(-7, 2))\n",
        "plt"
      ]
    },
    {
      "cell_type": "markdown",
      "source": [
        "**Calculate RMSE**"
      ],
      "metadata": {
        "id": "SUS3Z-U5fQst"
      },
      "id": "SUS3Z-U5fQst"
    },
    {
      "cell_type": "code",
      "execution_count": null,
      "id": "fa36a455",
      "metadata": {
        "id": "fa36a455"
      },
      "outputs": [],
      "source": [
        "# Function to calculate RMSE\n",
        "y_true=list(df[\"y_real\"])\n",
        "y_pred=list(df[\"y_pred\"])\n",
        "\n",
        "def calculate_rmse(y_true, y_pred):\n",
        "    return np.sqrt(np.mean((y_true - y_pred) ** 2))\n",
        "\n",
        "# Calculate RMSE\n",
        "rmse = calculate_rmse(np.array(y_true), np.array(y_pred))"
      ]
    },
    {
      "cell_type": "markdown",
      "source": [
        "**Application of GNN for calculating the solubility of Molecule (Graph Level Prediction)**"
      ],
      "metadata": {
        "id": "Kvye4o_9pxTW"
      },
      "id": "Kvye4o_9pxTW"
    },
    {
      "cell_type": "code",
      "source": [
        "# Print RMSE\n",
        "print(f\"RMSE: {rmse}\")"
      ],
      "metadata": {
        "colab": {
          "base_uri": "https://localhost:8080/"
        },
        "id": "hLBFvIYz2yHY",
        "outputId": "e010e6cf-ce8f-4430-dfaf-44a5b5b11aa9"
      },
      "id": "hLBFvIYz2yHY",
      "execution_count": null,
      "outputs": [
        {
          "output_type": "stream",
          "name": "stdout",
          "text": [
            "RMSE: 0.9235388518557675\n"
          ]
        }
      ]
    },
    {
      "cell_type": "markdown",
      "id": "18ff1e16",
      "metadata": {
        "id": "18ff1e16"
      },
      "source": [
        "# We recommend tuned hyperparameters"
      ]
    },
    {
      "cell_type": "markdown",
      "source": [
        "**Hints**. Changed parameters of the exist model:\n",
        "\n",
        "- type of Convolutional Layers\n",
        "\n",
        "- number of layers\n",
        "\n",
        "- optimizer\n",
        "\n",
        "- learning rate\n",
        "\n",
        "- hidden channels\n",
        "\n",
        "- pooling\n",
        "\n",
        "- epochs"
      ],
      "metadata": {
        "id": "OSZb2zCbdUW2"
      },
      "id": "OSZb2zCbdUW2"
    },
    {
      "cell_type": "markdown",
      "source": [
        "#**Try by yourselve!**"
      ],
      "metadata": {
        "id": "UGL5_plVpVdu"
      },
      "id": "UGL5_plVpVdu"
    },
    {
      "cell_type": "markdown",
      "id": "ee66de90",
      "metadata": {
        "id": "ee66de90"
      },
      "source": [
        "For your convenience copy code and change"
      ]
    },
    {
      "cell_type": "code",
      "execution_count": null,
      "id": "599fb8d9",
      "metadata": {
        "id": "599fb8d9",
        "colab": {
          "base_uri": "https://localhost:8080/",
          "height": 975
        },
        "outputId": "07649fb4-36ae-4487-bddf-4257f103c47b"
      },
      "outputs": [
        {
          "output_type": "stream",
          "name": "stdout",
          "text": [
            "GCN(\n",
            "  (initial_conv): GCNConv(9, 64)\n",
            "  (conv1): GCNConv(64, 64)\n",
            "  (conv2): GCNConv(64, 64)\n",
            "  (conv3): GCNConv(64, 64)\n",
            "  (out): Linear(in_features=128, out_features=1, bias=True)\n",
            ")\n",
            "Number of parameters:  13249\n",
            "Starting training...\n",
            "Epoch 0 | Train Loss 11.665947914123535\n",
            "Epoch 100 | Train Loss 0.8504207730293274\n",
            "Epoch 200 | Train Loss 1.1154390573501587\n",
            "Epoch 300 | Train Loss 0.32911959290504456\n",
            "Epoch 400 | Train Loss 0.23744039237499237\n",
            "Epoch 500 | Train Loss 0.38848552107810974\n",
            "Epoch 600 | Train Loss 0.22591347992420197\n",
            "Epoch 700 | Train Loss 0.06603380292654037\n",
            "Epoch 800 | Train Loss 0.161929190158844\n",
            "Epoch 900 | Train Loss 0.1568988561630249\n",
            "Epoch 1000 | Train Loss 0.046887725591659546\n",
            "Epoch 1100 | Train Loss 0.03903582692146301\n",
            "Epoch 1200 | Train Loss 0.15991733968257904\n",
            "Epoch 1300 | Train Loss 0.08483908325433731\n",
            "Epoch 1400 | Train Loss 0.04848349094390869\n",
            "Epoch 1500 | Train Loss 0.018160203471779823\n",
            "Epoch 1600 | Train Loss 0.02361152321100235\n",
            "Epoch 1700 | Train Loss 0.02528112567961216\n",
            "Epoch 1800 | Train Loss 0.04550778865814209\n",
            "Epoch 1900 | Train Loss 0.05733415484428406\n",
            "RMSE: 1.0073062968109678\n"
          ]
        },
        {
          "output_type": "display_data",
          "data": {
            "text/plain": [
              "<Figure size 640x480 with 1 Axes>"
            ],
            "image/png": "[encoded data removed]"
          },
          "metadata": {}
        }
      ],
      "source": [
        "embedding_size = 64\n",
        "data=dataset\n",
        "\n",
        "class GCN(torch.nn.Module):\n",
        "    def __init__(self):\n",
        "        # Init parent\n",
        "        super(GCN, self).__init__()\n",
        "        torch.manual_seed(42)\n",
        "\n",
        "        # GCN layers\n",
        "        self.initial_conv = GCNConv(len(data.x[0]), embedding_size)\n",
        "        self.conv1 = GCNConv(embedding_size, embedding_size)\n",
        "        self.conv2 = GCNConv(embedding_size, embedding_size)\n",
        "        self.conv3 = GCNConv(embedding_size, embedding_size)\n",
        "\n",
        "        # Output layer\n",
        "        self.out = Linear(embedding_size*2, 1)\n",
        "\n",
        "    def forward(self, x, edge_index, batch_index):\n",
        "        # First Conv layer\n",
        "        hidden = self.initial_conv(x, edge_index)\n",
        "        hidden = F.tanh(hidden)\n",
        "\n",
        "        # Other Conv layers\n",
        "        hidden = self.conv1(hidden, edge_index)\n",
        "        hidden = F.tanh(hidden)\n",
        "        hidden = self.conv2(hidden, edge_index)\n",
        "        hidden = F.tanh(hidden)\n",
        "        hidden = self.conv3(hidden, edge_index)\n",
        "        hidden = F.tanh(hidden)\n",
        "\n",
        "        # Global Pooling (stack different aggregations)\n",
        "        hidden = torch.cat([gmp(hidden, batch_index),\n",
        "                            gap(hidden, batch_index)], dim=1)\n",
        "\n",
        "        # Apply a final (linear) classifier.\n",
        "        out = self.out(hidden)\n",
        "        return out, hidden\n",
        "\n",
        "model = GCN()\n",
        "print(model)\n",
        "print(\"Number of parameters: \", sum(p.numel() for p in model.parameters()))\n",
        "\n",
        "from torch_geometric.data import DataLoader\n",
        "import warnings\n",
        "warnings.filterwarnings(\"ignore\")\n",
        "\n",
        "# Root mean squared error\n",
        "loss_fn = torch.nn.MSELoss()\n",
        "optimizer = torch.optim.Adam(model.parameters(), lr=0.0007)\n",
        "\n",
        "# Use GPU for training\n",
        "device = torch.device(\"cuda:0\" if torch.cuda.is_available() else \"cpu\")\n",
        "model = model.to(device)\n",
        "\n",
        "# Wrap data in a data loader\n",
        "data_size = len(data)\n",
        "NUM_GRAPHS_PER_BATCH = 64\n",
        "loader = DataLoader(data[:int(data_size * 0.8)],\n",
        "                    batch_size=NUM_GRAPHS_PER_BATCH, shuffle=True)\n",
        "test_loader = DataLoader(data[int(data_size * 0.8):],\n",
        "                         batch_size=NUM_GRAPHS_PER_BATCH, shuffle=True)\n",
        "def train(data):\n",
        "    # Enumerate over the data\n",
        "    for batch in loader:\n",
        "      # Use GPU\n",
        "      batch.to(device)\n",
        "      # Reset gradients\n",
        "      optimizer.zero_grad()\n",
        "      # Passing the node features and the connection info\n",
        "      pred, embedding = model(batch.x.float(), batch.edge_index, batch.batch)\n",
        "      # Calculating the loss and gradients\n",
        "      loss = loss_fn(pred, batch.y)\n",
        "      loss.backward()\n",
        "      # Update using the gradients\n",
        "      optimizer.step()\n",
        "    return loss, embedding\n",
        "\n",
        "print(\"Starting training...\")\n",
        "losses = []\n",
        "for epoch in range(2000):\n",
        "    loss, h = train(data)\n",
        "    losses.append(loss)\n",
        "    if epoch % 100 == 0:\n",
        "      print(f\"Epoch {epoch} | Train Loss {loss}\")\n",
        "\n",
        "# Analyze the results for one batch\n",
        "test_batch = next(iter(test_loader))\n",
        "with torch.no_grad():\n",
        "    test_batch.to(device)\n",
        "    pred, embed = model(test_batch.x.float(), test_batch.edge_index, test_batch.batch)\n",
        "    df = pd.DataFrame()\n",
        "    df[\"y_real\"] = test_batch.y.tolist()\n",
        "    df[\"y_pred\"] = pred.tolist()\n",
        "df[\"y_real\"] = df[\"y_real\"].apply(lambda row: row[0])\n",
        "df[\"y_pred\"] = df[\"y_pred\"].apply(lambda row: row[0])\n",
        "\n",
        "plt = sns.scatterplot(data=df, x=\"y_real\", y=\"y_pred\")\n",
        "plt.set(xlim=(-7, 2))\n",
        "plt.set(ylim=(-7, 2))\n",
        "plt\n",
        "\n",
        "y_true=list(df[\"y_real\"])\n",
        "y_pred=list(df[\"y_pred\"])\n",
        "\n",
        "# Function to calculate RMSE\n",
        "def calculate_rmse(y_true, y_pred):\n",
        "    return np.sqrt(np.mean((y_true - y_pred) ** 2))\n",
        "\n",
        "# Calculate RMSE\n",
        "rmse = calculate_rmse(np.array(y_true), np.array(y_pred))\n",
        "\n",
        "# Print RMSE\n",
        "print(f\"RMSE: {rmse}\")"
      ]
    },
    {
      "cell_type": "markdown",
      "id": "6a706f2e",
      "metadata": {
        "id": "6a706f2e"
      },
      "source": [
        "# Features (rdkit tool)"
      ]
    },
    {
      "cell_type": "markdown",
      "id": "34452a1a",
      "metadata": {
        "id": "34452a1a"
      },
      "source": [
        "Change features (9 local features are avalible in rdkit and 5 features are added as global features to each chemical element (same as atomic features))"
      ]
    },
    {
      "cell_type": "markdown",
      "id": "b5e24fe1",
      "metadata": {
        "id": "b5e24fe1"
      },
      "source": [
        "#Input data"
      ]
    },
    {
      "cell_type": "markdown",
      "id": "35ef8d41",
      "metadata": {
        "id": "35ef8d41"
      },
      "source": [
        "#Features"
      ]
    },
    {
      "cell_type": "markdown",
      "id": "ce2efaf0",
      "metadata": {
        "id": "ce2efaf0"
      },
      "source": [
        "Note. We estimated all features provided by rdkit, we recommended to select as features only stable ones (fo this we run code 5 times and estimated if they are still without any changes for the same SMILES)"
      ]
    },
    {
      "cell_type": "markdown",
      "source": [
        "**Define a function to calculate the distance between two points in 3D space**"
      ],
      "metadata": {
        "id": "jn8_Am3ihR-i"
      },
      "id": "jn8_Am3ihR-i"
    },
    {
      "cell_type": "code",
      "source": [
        "def calculate_distance(coord1, coord2):\n",
        "    return np.sqrt((coord1[0] - coord2[0])**2 + (coord1[1] - coord2[1])**2 + (coord1[2] - coord2[2])**2)"
      ],
      "metadata": {
        "id": "bu1zRBHLhXsr"
      },
      "id": "bu1zRBHLhXsr",
      "execution_count": null,
      "outputs": []
    },
    {
      "cell_type": "markdown",
      "source": [
        "**Define a function to extract features based on distances from the center**"
      ],
      "metadata": {
        "id": "G1fNLPLChaka"
      },
      "id": "G1fNLPLChaka"
    },
    {
      "cell_type": "markdown",
      "source": [
        "\n",
        "This code defines a function *extract_features* that extracts molecular features based on atomic distances from a defined center.\n",
        "\n",
        "- *SMILES to RDKit Molecule*:\n",
        "\n",
        "mol = Chem.MolFromSmiles(molecule) converts the SMILES string of the molecule into an RDKit molecule object.\n",
        "mol = Chem.AddHs(mol) adds hydrogen atoms to the molecule to ensure proper structure representation.\n",
        "- *3D Conformation Generation*:\n",
        "\n",
        "AllChem.EmbedMolecule(mol, AllChem.ETKDG()) generates a 3D conformation of the molecule using the ETKDG method (a fast 3D structure generation method in RDKit).\n",
        "- *Feature Extraction (Atomic Distances)*:\n",
        "\n",
        "A center point is defined as center = np.array([0.0, 0.0, 0.0]).\n",
        "The function loops over each atom in the molecule (for atom in mol.GetAtoms()).\n",
        "For each atom, it retrieves the atom’s 3D coordinates (coord = mol.GetConformer().GetAtomPosition(atom.GetIdx())), then calculates the distance from the atom to the center using the calculate_distance function.\n",
        "The distances are stored in the features list.\n",
        "- *Return Features*:\n",
        "\n",
        "The function returns the list of atomic distances (features), representing the feature vector of the molecule based on atomic distances from the center."
      ],
      "metadata": {
        "id": "sEn0C51VtUkg"
      },
      "id": "sEn0C51VtUkg"
    },
    {
      "cell_type": "code",
      "source": [
        "def extract_features(molecule):\n",
        "    mol = Chem.MolFromSmiles(molecule)  # Convert SMILES to an RDKit molecule object\n",
        "    mol = Chem.AddHs(mol)\n",
        "    AllChem.EmbedMolecule(mol, AllChem.ETKDG())\n",
        "    center = np.array([0.0, 0.0, 0.0])  # Define the center of the molecule\n",
        "    features = []\n",
        "    for atom in mol.GetAtoms():\n",
        "        coord = mol.GetConformer().GetAtomPosition(atom.GetIdx())\n",
        "        distance = calculate_distance(coord, center)\n",
        "        features.append(distance)\n",
        "    return features"
      ],
      "metadata": {
        "id": "rvkhmcoMhdu6"
      },
      "id": "rvkhmcoMhdu6",
      "execution_count": null,
      "outputs": []
    },
    {
      "cell_type": "markdown",
      "source": [
        "**Initialize an empty list to store features for each molecule**"
      ],
      "metadata": {
        "id": "i-PswIBFhmK4"
      },
      "id": "i-PswIBFhmK4"
    },
    {
      "cell_type": "markdown",
      "source": [
        "\n",
        "This code processes a list of SMILES strings, converts them to RDKit molecule objects, and extracts both atom-specific and molecule-wide features for each molecule.\n",
        "\n",
        "1. *Initialize Features List*:\n",
        "\n",
        "features_list = [] creates an empty list to store the feature sets for all molecules.\n",
        "2. *Process Each SMILES String*:\n",
        "\n",
        "The code loops through each SMILES string in SMILES_list and converts it to an RDKit molecule object using Chem.MolFromSmiles(smiles).\n",
        "3. *Atom-Level Features*:\n",
        "\n",
        "For each atom in the molecule, the following features are extracted:\n",
        "- Atomic Number (GetAtomicNum()), Total Number of Hydrogens (GetTotalNumHs()), Valence Electrons (GetTotalValence()), Radical Electrons (GetNumRadicalElectrons()), Formal Charge (GetFormalCharge()), and Hybridization (GetHybridization()).\n",
        "- Additional custom features are derived from the atomic mass and atomic number, normalized by specific constants for scaling.\n",
        "4. *Global Features*:\n",
        "\n",
        "For each atom, a few global features related to the entire molecule are calculated:\n",
        "- Degree (GetDegree()), which represents the number of bonds the atom has.\n",
        "- Hydrogen Bond Donor (assigned for oxygen atoms with attached hydrogens).\n",
        "- Ring Membership (1 if the atom is in a ring structure).\n",
        "- Rotatable Bonds (calculated using CalcNumRotatableBonds).\n",
        "- Polar Surface Area (calculated using CalcTPSA).\n",
        "5. *Storing Features*:\n",
        "\n",
        "- The list features_lst is created for each atom to store its features, and atom_features_list accumulates these lists for the whole molecule.\n",
        "- Once the atom-level features are calculated, atom_features_list is appended to features_list, which stores the feature sets for all molecules.\n",
        "6. *Output*:\n",
        "\n",
        "The variable features_list holds the extracted features for every atom in every molecule from the input SMILES_list. This list can later be used for analysis or machine learning tasks."
      ],
      "metadata": {
        "id": "-1YDooGeuvLQ"
      },
      "id": "-1YDooGeuvLQ"
    },
    {
      "cell_type": "code",
      "execution_count": null,
      "id": "843f2333",
      "metadata": {
        "id": "843f2333"
      },
      "outputs": [],
      "source": [
        "features_list = []\n",
        "\n",
        "# Iterate through each SMILES string\n",
        "for smiles in SMILES_list:\n",
        "    # Convert SMILES to an RDKit molecule object\n",
        "    mol = Chem.MolFromSmiles(smiles)\n",
        "\n",
        "    # Initialize an empty list to store features for each atom\n",
        "    atom_features_list = []\n",
        "\n",
        "    # Iterate through each atom in the molecule\n",
        "    for atom in mol.GetAtoms():\n",
        "        # Define local features:\n",
        "        features_lst = [\n",
        "\n",
        "            int(atom.GetAtomicNum()),  # Atomic number\n",
        "            int(atom.GetTotalNumHs()),  # Number of hydrogen atoms\n",
        "            int(atom.GetTotalValence()),  # Number of valence electrons\n",
        "            int(atom.GetNumRadicalElectrons()),  # Number of radical electrons\n",
        "            int(atom.GetFormalCharge()),  # Formal charge\n",
        "            int(atom.GetHybridization()),  # change format for removing: rdkit.Chem.rdchem.HybridizationType.SP in desciptions.\n",
        "            #Note: For sp1 is marked as rdkit.Chem.rdchem.HybridizationType.SP (without any number).\n",
        "\n",
        "            #new features from SMILES\n",
        "            int((atom.GetMass()- 10.812)/116.092),  # Number of valence electrons\n",
        "            int((atom.GetAtomicNum() - 1.5)/0.6),\n",
        "            int((atom.GetAtomicNum()- 0.64)/0.76)\n",
        "        ]\n",
        "\n",
        "        # Additional global features\n",
        "        min_degree = atom.GetDegree()\n",
        "        num_hbond_donors = 1 if atom.GetSymbol() == 'O' and atom.GetTotalNumHs() > 0 else 0\n",
        "        num_rings = 1 if atom.IsInRing() else 0\n",
        "        num_rotatable_bonds = rdMolDescriptors.CalcNumRotatableBonds(mol)\n",
        "        polar_surface_area = rdMolDescriptors.CalcTPSA(mol)  # Calculate polar surface area\n",
        "\n",
        "        # Append additional features to the atom's features\n",
        "        features_lst += [min_degree, num_hbond_donors, num_rings, num_rotatable_bonds, int(polar_surface_area)]\n",
        "\n",
        "        # Append the atom's features to the list\n",
        "        atom_features_list.append(features_lst)\n",
        "\n",
        "    # Append the features for each atom to the list\n",
        "    features_list.append(atom_features_list)\n",
        "x=features_list\n",
        "#print(x)"
      ]
    },
    {
      "cell_type": "markdown",
      "id": "c5d119be",
      "metadata": {
        "id": "c5d119be"
      },
      "source": [
        "#Edge indexes"
      ]
    },
    {
      "cell_type": "markdown",
      "source": [
        "\n",
        "This code extracts edge information (bond connections) for each molecule in the SMILES_list by iterating through each molecule's bonds and storing the corresponding atom indices.\n",
        "\n",
        "- *Initialize Edge List*:\n",
        "\n",
        "edge_index = [] initializes an empty list to hold edge data for all molecules.\n",
        "- *Iterate Through SMILES Strings*:\n",
        "\n",
        "The code processes each SMILES string in SMILES_list by converting it to an RDKit molecule object using Chem.MolFromSmiles(smiles).\n",
        "- *Extract Atom and Bond Information*:\n",
        "\n",
        "atoms = mol.GetAtoms() and bonds = mol.GetBonds() fetch the atom and bond information from the molecule.\n",
        "- *Create Edge Index List*:\n",
        "\n",
        "For each molecule, an empty list edge_indexes is created to store the bond relationships (edges).\n",
        "\n",
        "The code loops through each bond in the molecule, retrieves the indices of the atoms connected by the bond (begin_idx and end_idx), and stores the bond in both directions (i.e., [begin_idx, end_idx] and [end_idx, begin_idx]).\n",
        "- *Store Edge Information*:\n",
        "\n",
        "The list of edge indexes for the current molecule (edge_indexes) is appended to edge_index."
      ],
      "metadata": {
        "id": "xt1jxH45wNdX"
      },
      "id": "xt1jxH45wNdX"
    },
    {
      "cell_type": "code",
      "execution_count": null,
      "id": "227429a1",
      "metadata": {
        "id": "227429a1"
      },
      "outputs": [],
      "source": [
        "# Initialize list to store all edge indexes\n",
        "edge_index = []\n",
        "\n",
        "# Iterate through each SMILES string\n",
        "for smiles in SMILES_list:\n",
        "    # Convert SMILES string to RDKit Mol object\n",
        "    mol = Chem.MolFromSmiles(smiles)\n",
        "\n",
        "    # Get atom and bond information\n",
        "    atoms = mol.GetAtoms()\n",
        "    bonds = mol.GetBonds()\n",
        "\n",
        "    # Initialize edge indexes list for this SMILES\n",
        "    edge_indexes = []\n",
        "\n",
        "    # Iterate through bonds to get the edge indexes\n",
        "    for bond in bonds:\n",
        "        begin_idx = bond.GetBeginAtomIdx()\n",
        "        end_idx = bond.GetEndAtomIdx()\n",
        "        edge_indexes.append([begin_idx, end_idx])\n",
        "        edge_indexes.append([end_idx, begin_idx])  # Add the reverse direction as well\n",
        "\n",
        "    # Append the edge indexes for this SMILES to the overall list\n",
        "    edge_index.append(edge_indexes)"
      ]
    },
    {
      "cell_type": "markdown",
      "id": "a6e404ba",
      "metadata": {
        "id": "a6e404ba"
      },
      "source": [
        "#Input data for the GNN model"
      ]
    },
    {
      "cell_type": "markdown",
      "source": [
        "This code prepares a list of Data objects, each representing a graph with node features, edges, and target values for graph-based tasks.\n",
        "\n",
        "1. *Initialize an Empty List*:\n",
        "\n",
        "data = [] initializes an empty list that will hold Data objects, each representing a graph.\n",
        "2. *Loop Through Each Graph*:\n",
        "\n",
        "The loop iterates over each element in the x, edge_index, and y lists (which contain atom features, edge connections, and target values, respectively).\n",
        "3. *Convert to PyTorch Tensors*:\n",
        "\n",
        "- x_graph = torch.tensor(x[i], dtype=torch.float32) converts the atom features (list or array) into a PyTorch tensor of type float32.\n",
        "- edge_index_graph = torch.tensor(edge_index[i], dtype=torch.long).t().contiguous() converts the edge list into a tensor of type long, transposes it, and ensures it's contiguous in memory.\n",
        "- y_graph = torch.tensor(y[i], dtype=torch.float32) converts the target values into a tensor of type float32.\n",
        "4. *Create Data Object*:\n",
        "\n",
        "Data(x=x_graph, edge_index=edge_index_graph, y=y_graph) creates a Data object, which stores the graph's features, edges, and target values.\n",
        "5. *Store in List*:\n",
        "\n",
        "data.append(Data(...)) appends the created Data object to the data list.\n",
        "\n",
        "After the loop, the data list contains a collection of Data objects, each representing a graph with its corresponding features, edges, and targets for use in graph-based models."
      ],
      "metadata": {
        "id": "BIi4EBakwz_B"
      },
      "id": "BIi4EBakwz_B"
    },
    {
      "cell_type": "code",
      "source": [
        "from torch_geometric.datasets import MoleculeNet\n",
        "import torch\n",
        "from torch_geometric.data import Data\n",
        "\n",
        "# Load the ESOL dataset\n",
        "dataset = MoleculeNet(root=\".\", name=\"ESOL\")\n",
        "\n",
        "# Extract target values (y) from the dataset (change format of the data)\n",
        "y = [[[data.y.item()]] for data in dataset]  # Wrap each target value in a list"
      ],
      "metadata": {
        "id": "xNgRw3jHBbAi"
      },
      "id": "xNgRw3jHBbAi",
      "execution_count": null,
      "outputs": []
    },
    {
      "cell_type": "code",
      "source": [
        "data = []\n",
        "# Adjust the number of graphs\n",
        "for i in range(len(x)):\n",
        "    x_graph = torch.tensor(x[i], dtype=torch.float32)\n",
        "    edge_index_graph = torch.tensor(edge_index[i], dtype=torch.long).t().contiguous()\n",
        "    y_graph = torch.tensor(y[i], dtype=torch.float32)\n",
        "    data_graph = Data(x=x_graph, edge_index=edge_index_graph, y=y_graph)\n",
        "    data.append(data_graph)"
      ],
      "metadata": {
        "id": "3fmq6PjXBb8t"
      },
      "id": "3fmq6PjXBb8t",
      "execution_count": null,
      "outputs": []
    },
    {
      "cell_type": "markdown",
      "id": "844cd20d",
      "metadata": {
        "id": "844cd20d"
      },
      "source": [
        "# Code (ESOL library) with modifyed features"
      ]
    },
    {
      "cell_type": "code",
      "source": [
        "import torch\n",
        "from torch.nn import Linear\n",
        "import torch.nn.functional as F\n",
        "from torch_geometric.nn import GATConv\n",
        "from torch_geometric.nn import global_mean_pool as gap\n",
        "embedding_size = 64\n",
        "\n",
        "class RGAT(torch.nn.Module):\n",
        "    def __init__(self):\n",
        "        # Init parent\n",
        "        super(RGAT, self).__init__()\n",
        "        torch.manual_seed(42)\n",
        "\n",
        "        # GCN layers\n",
        "        self.initial_conv = GCNConv(len(x[0][0]), embedding_size)\n",
        "        self.conv1 = GCNConv(embedding_size, embedding_size)\n",
        "        self.conv2 = GCNConv(embedding_size, embedding_size)\n",
        "        self.conv3 = GCNConv(embedding_size, embedding_size)\n",
        "\n",
        "        # Output layer\n",
        "        self.out = Linear(embedding_size*2, 1)\n",
        "\n",
        "    def forward(self, x, edge_index, batch_index):\n",
        "        # First Conv layer\n",
        "        hidden = self.initial_conv(x, edge_index)\n",
        "        hidden = F.tanh(hidden)\n",
        "\n",
        "        # Other Conv layers\n",
        "        hidden = self.conv1(hidden, edge_index)\n",
        "        hidden = F.tanh(hidden)\n",
        "        hidden = self.conv2(hidden, edge_index)\n",
        "        hidden = F.tanh(hidden)\n",
        "        hidden = self.conv3(hidden, edge_index)\n",
        "        hidden = F.tanh(hidden)\n",
        "\n",
        "        # Global Pooling (stack different aggregations)\n",
        "        hidden = torch.cat([gmp(hidden, batch_index),\n",
        "                            gap(hidden, batch_index)], dim=1)\n",
        "\n",
        "        # Apply a final (linear) classifier.\n",
        "        out = self.out(hidden)\n",
        "        return out, hidden\n",
        "\n",
        "model = RGAT()\n",
        "print(model)\n",
        "print(\"Number of parameters: \", sum(p.numel() for p in model.parameters()))\n",
        "\n",
        "from torch_geometric.data import DataLoader\n",
        "import warnings\n",
        "warnings.filterwarnings(\"ignore\")\n",
        "\n",
        "# Root mean squared error\n",
        "optimizer = torch.optim.Adam(model.parameters(), lr=0.0007)\n",
        "loss_fn = torch.nn.MSELoss()\n",
        "\n",
        "# Use GPU for training\n",
        "device = torch.device(\"cuda:0\" if torch.cuda.is_available() else \"cpu\")\n",
        "model = model.to(device)\n",
        "\n",
        "# Wrap data in a data loader\n",
        "data_size = len(data)\n",
        "NUM_GRAPHS_PER_BATCH = 64\n",
        "loader = DataLoader(data[:int(data_size * 0.8)],\n",
        "                    batch_size=NUM_GRAPHS_PER_BATCH, shuffle=True)\n",
        "test_loader = DataLoader(data[int(data_size * 0.8):],\n",
        "                         batch_size=NUM_GRAPHS_PER_BATCH, shuffle=True)\n",
        "\n",
        "def train(data):\n",
        "    # Enumerate over the data\n",
        "    for batch in loader:\n",
        "      # Use GPU\n",
        "      batch.to(device)\n",
        "      # Reset gradients\n",
        "      optimizer.zero_grad()\n",
        "      # Passing the node features and the connection info\n",
        "      pred, embedding = model(batch.x.float(), batch.edge_index, batch.batch)\n",
        "      # Calculating the loss and gradients\n",
        "      loss = loss_fn(pred, batch.y)\n",
        "      loss.backward()\n",
        "      # Update using the gradients\n",
        "      optimizer.step()\n",
        "    return loss, embedding\n",
        "\n",
        "print(\"Starting training...\")\n",
        "losses = []\n",
        "for epoch in range(2000):\n",
        "    loss, h = train(data)\n",
        "    losses.append(loss)\n",
        "    if epoch % 100 == 0:\n",
        "      print(f\"Epoch {epoch} | Train Loss {loss}\")\n",
        "\n",
        "# Assuming you have losses and losses_float defined elsewhere\n",
        "losses_float = [float(loss.cpu().detach().numpy()) for loss in losses]\n",
        "loss_indices = [i for i, l in enumerate(losses_float)]\n",
        "\n",
        "# Create the plot\n",
        "plt.figure(figsize=(10, 5))\n",
        "plt.plot(loss_indices, losses_float)\n",
        "plt.title('Training Loss Over Epochs')\n",
        "plt.xlabel('Epoch')\n",
        "plt.ylabel('Loss')\n",
        "plt.grid(True)\n",
        "plt.show()\n",
        "\n",
        "# Analyze the results for one batch\n",
        "test_batch = next(iter(test_loader))\n",
        "with torch.no_grad():\n",
        "    test_batch.to(device)\n",
        "    pred, embed = model(test_batch.x.float(), test_batch.edge_index, test_batch.batch)\n",
        "    df = pd.DataFrame()\n",
        "    df[\"y_real\"] = test_batch.y.tolist()\n",
        "    df[\"y_pred\"] = pred.tolist()\n",
        "df[\"y_real\"] = df[\"y_real\"].apply(lambda row: row[0])\n",
        "df[\"y_pred\"] = df[\"y_pred\"].apply(lambda row: row[0])\n",
        "df\n",
        "\n",
        "# Scatter plot\n",
        "plt.scatter(df[\"y_real\"], df[\"y_pred\"])\n",
        "\n",
        "# Set the limits for x and y axes\n",
        "plt.xlim(-10, 2)\n",
        "plt.ylim(-10, 2)\n",
        "\n",
        "# Add labels to x and y axes\n",
        "plt.xlabel(\"y_real\")\n",
        "plt.ylabel(\"y_pred\")\n",
        "\n",
        "# Show the plot\n",
        "plt.show()\n",
        "\n",
        "y_true=list(df[\"y_real\"])\n",
        "y_pred=list(df[\"y_pred\"])\n",
        "\n",
        "# Function to calculate RMSE\n",
        "def calculate_rmse(y_true, y_pred):\n",
        "    return np.sqrt(np.mean((y_true - y_pred) ** 2))\n",
        "\n",
        "# Calculate RMSE\n",
        "rmse = calculate_rmse(np.array(y_true), np.array(y_pred))\n",
        "\n",
        "# Print RMSE\n",
        "print(f\"RMSE: {rmse}\")"
      ],
      "metadata": {
        "colab": {
          "base_uri": "https://localhost:8080/",
          "height": 1000
        },
        "id": "K_YC48BxCSXL",
        "outputId": "557873ae-1172-4b91-95c0-f562943f705f"
      },
      "id": "K_YC48BxCSXL",
      "execution_count": null,
      "outputs": [
        {
          "output_type": "stream",
          "name": "stdout",
          "text": [
            "RGAT(\n",
            "  (initial_conv): GCNConv(14, 64)\n",
            "  (conv1): GCNConv(64, 64)\n",
            "  (conv2): GCNConv(64, 64)\n",
            "  (conv3): GCNConv(64, 64)\n",
            "  (out): Linear(in_features=128, out_features=1, bias=True)\n",
            ")\n",
            "Number of parameters:  13569\n",
            "Starting training...\n",
            "Epoch 0 | Train Loss 11.453770637512207\n",
            "Epoch 100 | Train Loss 0.6373330950737\n",
            "Epoch 200 | Train Loss 0.45406150817871094\n",
            "Epoch 300 | Train Loss 0.6651291251182556\n",
            "Epoch 400 | Train Loss 0.3385976254940033\n",
            "Epoch 500 | Train Loss 0.381710022687912\n",
            "Epoch 600 | Train Loss 0.5083619952201843\n",
            "Epoch 700 | Train Loss 0.22448252141475677\n",
            "Epoch 800 | Train Loss 0.22797571122646332\n",
            "Epoch 900 | Train Loss 0.14863194525241852\n",
            "Epoch 1000 | Train Loss 0.05810534581542015\n",
            "Epoch 1100 | Train Loss 0.038115475326776505\n",
            "Epoch 1200 | Train Loss 0.03876296803355217\n",
            "Epoch 1300 | Train Loss 0.20317059755325317\n",
            "Epoch 1400 | Train Loss 0.0617620013654232\n",
            "Epoch 1500 | Train Loss 0.022900903597474098\n",
            "Epoch 1600 | Train Loss 0.005116861313581467\n",
            "Epoch 1700 | Train Loss 0.08527833968400955\n",
            "Epoch 1800 | Train Loss 0.05870610103011131\n",
            "Epoch 1900 | Train Loss 0.017013264819979668\n"
          ]
        },
        {
          "output_type": "display_data",
          "data": {
            "text/plain": [
              "<Figure size 1000x500 with 1 Axes>"
            ],
            "image/png": "[encoded data removed]"
          },
          "metadata": {}
        },
        {
          "output_type": "display_data",
          "data": {
            "text/plain": [
              "<Figure size 640x480 with 1 Axes>"
            ],
            "image/png": "[encoded data removed]"
          },
          "metadata": {}
        },
        {
          "output_type": "stream",
          "name": "stdout",
          "text": [
            "RMSE: 0.7487557540468376\n"
          ]
        }
      ]
    },
    {
      "cell_type": "markdown",
      "source": [
        "RMSE = 0.7647 for molecules without the most weakly connected molecules with ID != 0 or ID != 1. (The GNN model without any changes)"
      ],
      "metadata": {
        "id": "6kauJk3Wo6cF"
      },
      "id": "6kauJk3Wo6cF"
    },
    {
      "cell_type": "markdown",
      "source": [
        "https://arxiv.org/pdf/1901.00596\n",
        "\n",
        "@article{wu2020comprehensive,\n",
        "  title={A comprehensive survey on graph neural networks},\n",
        "  author={Wu, Zonghan and Pan, Shirui and Chen, Fengwen and Long, Guodong and Zhang, Chengqi and Philip, S Yu},\n",
        "  journal={IEEE transactions on neural networks and learning systems},\n",
        "  volume={32},\n",
        "  number={1},\n",
        "  pages={4--24},\n",
        "  year={2020},\n",
        "  publisher={IEEE}\n",
        "}"
      ],
      "metadata": {
        "id": "hwuZBqTHbybA"
      },
      "id": "hwuZBqTHbybA"
    }
  ],
  "metadata": {
    "kernelspec": {
      "display_name": "Python 3 (ipykernel)",
      "language": "python",
      "name": "python3"
    },
    "language_info": {
      "codemirror_mode": {
        "name": "ipython",
        "version": 3
      },
      "file_extension": ".py",
      "mimetype": "text/x-python",
      "name": "python",
      "nbconvert_exporter": "python",
      "pygments_lexer": "ipython3",
      "version": "3.9.12"
    },
    "colab": {
      "provenance": []
    }
  },
  "nbformat": 4,
  "nbformat_minor": 5
}