{
  "cells": [
    {
      "cell_type": "markdown",
      "id": "15b43a89",
      "metadata": {
        "id": "15b43a89"
      },
      "source": [
        "Application of GNN for calculating the solubility of Molecule (Graph Level Prediction)\n",
        "\n",
        "https://medium.com/@tejpal.abhyuday/application-of-gnn-for-calculating-the-solubility-of-molecule-graph-level-prediction-8bac5fabf600"
      ]
    },
    {
      "cell_type": "code",
      "source": [
        "# Install PyTorch\n",
        "!pip install torch torchvision torchaudio --index-url https://download.pytorch.org/whl/cu118\n",
        "\n",
        "# Install PyTorch Geometric dependencies\n",
        "!pip install torch-scatter -f https://data.pyg.org/whl/torch-2.0.0+cu118.html\n",
        "!pip install torch-sparse -f https://data.pyg.org/whl/torch-2.0.0+cu118.html\n",
        "!pip install torch-cluster -f https://data.pyg.org/whl/torch-2.0.0+cu118.html\n",
        "!pip install torch-spline-conv -f https://data.pyg.org/whl/torch-2.0.0+cu118.html\n",
        "\n",
        "# Install PyTorch Geometric\n",
        "!pip install torch-geometric"
      ],
      "metadata": {
        "id": "dsUX6KO54W0m",
        "colab": {
          "base_uri": "https://localhost:8080/"
        },
        "outputId": "ad0e1779-6621-4a13-c835-b3324fe47052"
      },
      "id": "dsUX6KO54W0m",
      "execution_count": 4,
      "outputs": [
        {
          "output_type": "stream",
          "name": "stdout",
          "text": [
            "Looking in indexes: https://download.pytorch.org/whl/cu118\n",
            "Requirement already satisfied: torch in /usr/local/lib/python3.10/dist-packages (2.5.1+cu121)\n",
            "Requirement already satisfied: torchvision in /usr/local/lib/python3.10/dist-packages (0.20.1+cu121)\n",
            "Requirement already satisfied: torchaudio in /usr/local/lib/python3.10/dist-packages (2.5.1+cu121)\n",
            "Requirement already satisfied: filelock in /usr/local/lib/python3.10/dist-packages (from torch) (3.16.1)\n",
            "Requirement already satisfied: typing-extensions>=4.8.0 in /usr/local/lib/python3.10/dist-packages (from torch) (4.12.2)\n",
            "Requirement already satisfied: networkx in /usr/local/lib/python3.10/dist-packages (from torch) (3.4.2)\n",
            "Requirement already satisfied: jinja2 in /usr/local/lib/python3.10/dist-packages (from torch) (3.1.4)\n",
            "Requirement already satisfied: fsspec in /usr/local/lib/python3.10/dist-packages (from torch) (2024.10.0)\n",
            "Requirement already satisfied: sympy==1.13.1 in /usr/local/lib/python3.10/dist-packages (from torch) (1.13.1)\n",
            "Requirement already satisfied: mpmath<1.4,>=1.1.0 in /usr/local/lib/python3.10/dist-packages (from sympy==1.13.1->torch) (1.3.0)\n",
            "Requirement already satisfied: numpy in /usr/local/lib/python3.10/dist-packages (from torchvision) (1.26.4)\n",
            "Requirement already satisfied: pillow!=8.3.*,>=5.3.0 in /usr/local/lib/python3.10/dist-packages (from torchvision) (11.0.0)\n",
            "Requirement already satisfied: MarkupSafe>=2.0 in /usr/local/lib/python3.10/dist-packages (from jinja2->torch) (3.0.2)\n",
            "Looking in links: https://data.pyg.org/whl/torch-2.0.0+cu118.html\n",
            "Collecting torch-scatter\n",
            "  Downloading https://data.pyg.org/whl/torch-2.0.0%2Bcu118/torch_scatter-2.1.2%2Bpt20cu118-cp310-cp310-linux_x86_64.whl (10.2 MB)\n",
            "\u001b[2K     \u001b[90m━━━━━━━━━━━━━━━━━━━━━━━━━━━━━━━━━━━━━━━━\u001b[0m \u001b[32m10.2/10.2 MB\u001b[0m \u001b[31m23.5 MB/s\u001b[0m eta \u001b[36m0:00:00\u001b[0m\n",
            "\u001b[?25hInstalling collected packages: torch-scatter\n",
            "Successfully installed torch-scatter-2.1.2+pt20cu118\n",
            "Looking in links: https://data.pyg.org/whl/torch-2.0.0+cu118.html\n",
            "Collecting torch-sparse\n",
            "  Downloading https://data.pyg.org/whl/torch-2.0.0%2Bcu118/torch_sparse-0.6.18%2Bpt20cu118-cp310-cp310-linux_x86_64.whl (4.9 MB)\n",
            "\u001b[2K     \u001b[90m━━━━━━━━━━━━━━━━━━━━━━━━━━━━━━━━━━━━━━━━\u001b[0m \u001b[32m4.9/4.9 MB\u001b[0m \u001b[31m21.2 MB/s\u001b[0m eta \u001b[36m0:00:00\u001b[0m\n",
            "\u001b[?25hRequirement already satisfied: scipy in /usr/local/lib/python3.10/dist-packages (from torch-sparse) (1.13.1)\n",
            "Requirement already satisfied: numpy<2.3,>=1.22.4 in /usr/local/lib/python3.10/dist-packages (from scipy->torch-sparse) (1.26.4)\n",
            "Installing collected packages: torch-sparse\n",
            "Successfully installed torch-sparse-0.6.18+pt20cu118\n",
            "Looking in links: https://data.pyg.org/whl/torch-2.0.0+cu118.html\n",
            "Collecting torch-cluster\n",
            "  Downloading https://data.pyg.org/whl/torch-2.0.0%2Bcu118/torch_cluster-1.6.3%2Bpt20cu118-cp310-cp310-linux_x86_64.whl (3.3 MB)\n",
            "\u001b[2K     \u001b[90m━━━━━━━━━━━━━━━━━━━━━━━━━━━━━━━━━━━━━━━━\u001b[0m \u001b[32m3.3/3.3 MB\u001b[0m \u001b[31m38.1 MB/s\u001b[0m eta \u001b[36m0:00:00\u001b[0m\n",
            "\u001b[?25hRequirement already satisfied: scipy in /usr/local/lib/python3.10/dist-packages (from torch-cluster) (1.13.1)\n",
            "Requirement already satisfied: numpy<2.3,>=1.22.4 in /usr/local/lib/python3.10/dist-packages (from scipy->torch-cluster) (1.26.4)\n",
            "Installing collected packages: torch-cluster\n",
            "Successfully installed torch-cluster-1.6.3+pt20cu118\n",
            "Looking in links: https://data.pyg.org/whl/torch-2.0.0+cu118.html\n",
            "Collecting torch-spline-conv\n",
            "  Downloading https://data.pyg.org/whl/torch-2.0.0%2Bcu118/torch_spline_conv-1.2.2%2Bpt20cu118-cp310-cp310-linux_x86_64.whl (886 kB)\n",
            "\u001b[2K     \u001b[90m━━━━━━━━━━━━━━━━━━━━━━━━━━━━━━━━━━━━━━━━\u001b[0m \u001b[32m886.6/886.6 kB\u001b[0m \u001b[31m13.9 MB/s\u001b[0m eta \u001b[36m0:00:00\u001b[0m\n",
            "\u001b[?25hInstalling collected packages: torch-spline-conv\n",
            "Successfully installed torch-spline-conv-1.2.2+pt20cu118\n",
            "Collecting torch-geometric\n",
            "  Downloading torch_geometric-2.6.1-py3-none-any.whl.metadata (63 kB)\n",
            "\u001b[2K     \u001b[90m━━━━━━━━━━━━━━━━━━━━━━━━━━━━━━━━━━━━━━━━\u001b[0m \u001b[32m63.1/63.1 kB\u001b[0m \u001b[31m2.2 MB/s\u001b[0m eta \u001b[36m0:00:00\u001b[0m\n",
            "\u001b[?25hRequirement already satisfied: aiohttp in /usr/local/lib/python3.10/dist-packages (from torch-geometric) (3.11.2)\n",
            "Requirement already satisfied: fsspec in /usr/local/lib/python3.10/dist-packages (from torch-geometric) (2024.10.0)\n",
            "Requirement already satisfied: jinja2 in /usr/local/lib/python3.10/dist-packages (from torch-geometric) (3.1.4)\n",
            "Requirement already satisfied: numpy in /usr/local/lib/python3.10/dist-packages (from torch-geometric) (1.26.4)\n",
            "Requirement already satisfied: psutil>=5.8.0 in /usr/local/lib/python3.10/dist-packages (from torch-geometric) (5.9.5)\n",
            "Requirement already satisfied: pyparsing in /usr/local/lib/python3.10/dist-packages (from torch-geometric) (3.2.0)\n",
            "Requirement already satisfied: requests in /usr/local/lib/python3.10/dist-packages (from torch-geometric) (2.32.3)\n",
            "Requirement already satisfied: tqdm in /usr/local/lib/python3.10/dist-packages (from torch-geometric) (4.66.6)\n",
            "Requirement already satisfied: aiohappyeyeballs>=2.3.0 in /usr/local/lib/python3.10/dist-packages (from aiohttp->torch-geometric) (2.4.3)\n",
            "Requirement already satisfied: aiosignal>=1.1.2 in /usr/local/lib/python3.10/dist-packages (from aiohttp->torch-geometric) (1.3.1)\n",
            "Requirement already satisfied: attrs>=17.3.0 in /usr/local/lib/python3.10/dist-packages (from aiohttp->torch-geometric) (24.2.0)\n",
            "Requirement already satisfied: frozenlist>=1.1.1 in /usr/local/lib/python3.10/dist-packages (from aiohttp->torch-geometric) (1.5.0)\n",
            "Requirement already satisfied: multidict<7.0,>=4.5 in /usr/local/lib/python3.10/dist-packages (from aiohttp->torch-geometric) (6.1.0)\n",
            "Requirement already satisfied: propcache>=0.2.0 in /usr/local/lib/python3.10/dist-packages (from aiohttp->torch-geometric) (0.2.0)\n",
            "Requirement already satisfied: yarl<2.0,>=1.17.0 in /usr/local/lib/python3.10/dist-packages (from aiohttp->torch-geometric) (1.17.2)\n",
            "Requirement already satisfied: async-timeout<6.0,>=4.0 in /usr/local/lib/python3.10/dist-packages (from aiohttp->torch-geometric) (4.0.3)\n",
            "Requirement already satisfied: MarkupSafe>=2.0 in /usr/local/lib/python3.10/dist-packages (from jinja2->torch-geometric) (3.0.2)\n",
            "Requirement already satisfied: charset-normalizer<4,>=2 in /usr/local/lib/python3.10/dist-packages (from requests->torch-geometric) (3.4.0)\n",
            "Requirement already satisfied: idna<4,>=2.5 in /usr/local/lib/python3.10/dist-packages (from requests->torch-geometric) (3.10)\n",
            "Requirement already satisfied: urllib3<3,>=1.21.1 in /usr/local/lib/python3.10/dist-packages (from requests->torch-geometric) (2.2.3)\n",
            "Requirement already satisfied: certifi>=2017.4.17 in /usr/local/lib/python3.10/dist-packages (from requests->torch-geometric) (2024.8.30)\n",
            "Requirement already satisfied: typing-extensions>=4.1.0 in /usr/local/lib/python3.10/dist-packages (from multidict<7.0,>=4.5->aiohttp->torch-geometric) (4.12.2)\n",
            "Downloading torch_geometric-2.6.1-py3-none-any.whl (1.1 MB)\n",
            "\u001b[2K   \u001b[90m━━━━━━━━━━━━━━━━━━━━━━━━━━━━━━━━━━━━━━━━\u001b[0m \u001b[32m1.1/1.1 MB\u001b[0m \u001b[31m23.0 MB/s\u001b[0m eta \u001b[36m0:00:00\u001b[0m\n",
            "\u001b[?25hInstalling collected packages: torch-geometric\n",
            "Successfully installed torch-geometric-2.6.1\n"
          ]
        }
      ]
    },
    {
      "cell_type": "code",
      "source": [
        "!pip install rdkit"
      ],
      "metadata": {
        "id": "YTl7UkDKvRbq",
        "colab": {
          "base_uri": "https://localhost:8080/"
        },
        "outputId": "93a8f461-e37f-43cc-eb65-739776836bc0"
      },
      "id": "YTl7UkDKvRbq",
      "execution_count": 2,
      "outputs": [
        {
          "output_type": "stream",
          "name": "stdout",
          "text": [
            "Collecting rdkit\n",
            "  Downloading rdkit-2024.3.6-cp310-cp310-manylinux_2_28_x86_64.whl.metadata (4.0 kB)\n",
            "Requirement already satisfied: numpy in /usr/local/lib/python3.10/dist-packages (from rdkit) (1.26.4)\n",
            "Requirement already satisfied: Pillow in /usr/local/lib/python3.10/dist-packages (from rdkit) (11.0.0)\n",
            "Downloading rdkit-2024.3.6-cp310-cp310-manylinux_2_28_x86_64.whl (32.8 MB)\n",
            "\u001b[2K   \u001b[90m━━━━━━━━━━━━━━━━━━━━━━━━━━━━━━━━━━━━━━━━\u001b[0m \u001b[32m32.8/32.8 MB\u001b[0m \u001b[31m8.4 MB/s\u001b[0m eta \u001b[36m0:00:00\u001b[0m\n",
            "\u001b[?25hInstalling collected packages: rdkit\n",
            "Successfully installed rdkit-2024.3.6\n"
          ]
        }
      ]
    },
    {
      "cell_type": "code",
      "source": [
        "import torch\n",
        "import rdkit\n",
        "from torch_geometric.datasets import MoleculeNet"
      ],
      "metadata": {
        "id": "SaXSC0Fxi9iB"
      },
      "id": "SaXSC0Fxi9iB",
      "execution_count": null,
      "outputs": []
    },
    {
      "cell_type": "code",
      "source": [
        "# Load the ESOL dataset\n",
        "dataset = MoleculeNet(root=\".\", name=\"ESOL\")\n",
        "\n",
        "# Extract SMILES and target values from the dataset\n",
        "SMILES_list = [data.smiles for data in dataset]\n",
        "y_list = [data.y.tolist() for data in dataset]  # Convert tensor to list for better readability\n",
        "\n",
        "# Print the first few entries to verify\n",
        "print(\"SMILES_list:\", SMILES_list[:10])\n",
        "print(\"y_list:\", y_list[:10])"
      ],
      "metadata": {
        "colab": {
          "base_uri": "https://localhost:8080/"
        },
        "id": "VpzV2jKabSuB",
        "outputId": "19fe4c02-1e46-491d-cbc6-518619aaf299"
      },
      "id": "VpzV2jKabSuB",
      "execution_count": 7,
      "outputs": [
        {
          "output_type": "stream",
          "name": "stdout",
          "text": [
            "SMILES_list: ['OCC3OC(OCC2OC(OC(C#N)c1ccccc1)C(O)C(O)C2O)C(O)C(O)C3O ', 'Cc1occc1C(=O)Nc2ccccc2', 'CC(C)=CCCC(C)=CC(=O)', 'c1ccc2c(c1)ccc3c2ccc4c5ccccc5ccc43', 'c1ccsc1', 'c2ccc1scnc1c2 ', 'Clc1cc(Cl)c(c(Cl)c1)c2c(Cl)cccc2Cl', 'CC12CCC3C(CCc4cc(O)ccc34)C2CCC1O', 'ClC4=C(Cl)C5(Cl)C3C1CC(C2OC12)C3C4(Cl)C5(Cl)Cl', 'COc5cc4OCC3Oc2c1CC(Oc1ccc2C(=O)C3c4cc5OC)C(C)=C ']\n",
            "y_list: [[[-0.7699999809265137]], [[-3.299999952316284]], [[-2.059999942779541]], [[-7.869999885559082]], [[-1.3300000429153442]], [[-1.5]], [[-7.320000171661377]], [[-5.03000020980835]], [[-6.289999961853027]], [[-4.420000076293945]]]\n"
          ]
        }
      ]
    },
    {
      "cell_type": "markdown",
      "source": [
        "#Visualize a molecule"
      ],
      "metadata": {
        "id": "0V6VnUmYagZy"
      },
      "id": "0V6VnUmYagZy"
    },
    {
      "cell_type": "code",
      "execution_count": 8,
      "id": "b6ef4e0a",
      "metadata": {
        "id": "b6ef4e0a",
        "outputId": "ecb045ee-9d4e-458c-ebde-447aedcb8ded",
        "colab": {
          "base_uri": "https://localhost:8080/",
          "height": 167
        }
      },
      "outputs": [
        {
          "output_type": "execute_result",
          "data": {
            "text/plain": [
              "<rdkit.Chem.rdchem.Mol at 0x78b282d0e7a0>"
            ],
            "image/png": "[encoded data removed]"
          },
          "metadata": {},
          "execution_count": 8
        }
      ],
      "source": [
        "from rdkit import Chem\n",
        "from rdkit.Chem.Draw import IPythonConsole\n",
        "molecule = Chem.MolFromSmiles(data[0][\"smiles\"])\n",
        "molecule"
      ]
    },
    {
      "cell_type": "markdown",
      "source": [
        "# Defining the GNN"
      ],
      "metadata": {
        "id": "tSAgbtFKaoEB"
      },
      "id": "tSAgbtFKaoEB"
    },
    {
      "cell_type": "markdown",
      "source": [
        "Import functions to run the code"
      ],
      "metadata": {
        "id": "md_V9XindwX-"
      },
      "id": "md_V9XindwX-"
    },
    {
      "cell_type": "code",
      "source": [
        "import seaborn as sns\n",
        "import pandas as pd\n",
        "import numpy as np"
      ],
      "metadata": {
        "id": "XiMA-tuMh4M9"
      },
      "id": "XiMA-tuMh4M9",
      "execution_count": null,
      "outputs": []
    },
    {
      "cell_type": "code",
      "execution_count": null,
      "id": "15c33c6b",
      "metadata": {
        "id": "15c33c6b"
      },
      "outputs": [],
      "source": [
        "import torch\n",
        "import torch.nn as nn\n",
        "import torch.nn.functional as F\n",
        "from torch_geometric.data import Data, DataLoader\n",
        "from torch_geometric.nn import GATConv, CGConv, DynamicEdgeConv, GCNConv\n",
        "from torch_geometric.utils import add_self_loops\n",
        "from sklearn.model_selection import train_test_split\n",
        "from torch.nn import Linear\n",
        "from torch_geometric.nn import global_mean_pool as gap, global_max_pool as gmp\n",
        "import warnings\n",
        "warnings.filterwarnings(\"ignore\")"
      ]
    },
    {
      "cell_type": "code",
      "execution_count": null,
      "id": "07039ebd",
      "metadata": {
        "id": "07039ebd"
      },
      "outputs": [],
      "source": [
        "from rdkit import Chem\n",
        "from rdkit.Chem import rdMolHash\n",
        "from rdkit import DataStructs\n",
        "from rdkit.Chem import AllChem, Descriptors, rdMolDescriptors\n",
        "from rdkit.Chem import Draw"
      ]
    },
    {
      "cell_type": "code",
      "execution_count": 9,
      "id": "c8be0922",
      "metadata": {
        "id": "c8be0922",
        "outputId": "e46bbf56-8cc6-4f67-d2c0-1ac4aef2c018",
        "colab": {
          "base_uri": "https://localhost:8080/"
        }
      },
      "outputs": [
        {
          "output_type": "stream",
          "name": "stdout",
          "text": [
            "GCN(\n",
            "  (initial_conv): GCNConv(9, 64)\n",
            "  (conv1): GCNConv(64, 64)\n",
            "  (conv2): GCNConv(64, 64)\n",
            "  (conv3): GCNConv(64, 64)\n",
            "  (out): Linear(in_features=128, out_features=1, bias=True)\n",
            ")\n",
            "Number of parameters:  13249\n"
          ]
        }
      ],
      "source": [
        "embedding_size = 64\n",
        "\n",
        "class GCN(torch.nn.Module):\n",
        "    def __init__(self):\n",
        "        # Init parent\n",
        "        super(GCN, self).__init__()\n",
        "        torch.manual_seed(42)\n",
        "\n",
        "        # GCN layers\n",
        "        self.initial_conv = GCNConv(data.num_features, embedding_size)\n",
        "        self.conv1 = GCNConv(embedding_size, embedding_size)\n",
        "        self.conv2 = GCNConv(embedding_size, embedding_size)\n",
        "        self.conv3 = GCNConv(embedding_size, embedding_size)\n",
        "\n",
        "        # Output layer\n",
        "        self.out = Linear(embedding_size*2, 1)\n",
        "\n",
        "    def forward(self, x, edge_index, batch_index):\n",
        "        # First Conv layer\n",
        "        hidden = self.initial_conv(x, edge_index)\n",
        "        hidden = F.tanh(hidden)\n",
        "\n",
        "        # Other Conv layers\n",
        "        hidden = self.conv1(hidden, edge_index)\n",
        "        hidden = F.tanh(hidden)\n",
        "        hidden = self.conv2(hidden, edge_index)\n",
        "        hidden = F.tanh(hidden)\n",
        "        hidden = self.conv3(hidden, edge_index)\n",
        "        hidden = F.tanh(hidden)\n",
        "\n",
        "        # Global Pooling (stack different aggregations)\n",
        "        hidden = torch.cat([gmp(hidden, batch_index),\n",
        "                            gap(hidden, batch_index)], dim=1)\n",
        "\n",
        "        # Apply a final (linear) classifier.\n",
        "        out = self.out(hidden)\n",
        "        return out, hidden\n",
        "model = GCN()"
      ]
    },
    {
      "cell_type": "markdown",
      "source": [
        "Print structure of the GNN model"
      ],
      "metadata": {
        "id": "NjhcTHZPd50i"
      },
      "id": "NjhcTHZPd50i"
    },
    {
      "cell_type": "code",
      "source": [
        "print(model)\n",
        "print(\"Number of parameters: \", sum(p.numel() for p in model.parameters()))"
      ],
      "metadata": {
        "id": "3zdtliUWd4qP"
      },
      "id": "3zdtliUWd4qP",
      "execution_count": null,
      "outputs": []
    },
    {
      "cell_type": "markdown",
      "source": [
        "Root mean squared error"
      ],
      "metadata": {
        "id": "NBiSGE4vePCx"
      },
      "id": "NBiSGE4vePCx"
    },
    {
      "cell_type": "code",
      "source": [
        "loss_fn = torch.nn.MSELoss()\n",
        "optimizer = torch.optim.Adam(model.parameters(), lr=0.0007)"
      ],
      "metadata": {
        "id": "nZrOOoPOeNMJ"
      },
      "id": "nZrOOoPOeNMJ",
      "execution_count": null,
      "outputs": []
    },
    {
      "cell_type": "markdown",
      "source": [
        "Use GPU for training"
      ],
      "metadata": {
        "id": "a187x_GBeP1j"
      },
      "id": "a187x_GBeP1j"
    },
    {
      "cell_type": "code",
      "source": [
        "device = torch.device(\"cuda:0\" if torch.cuda.is_available() else \"cpu\")\n",
        "model = model.to(device)"
      ],
      "metadata": {
        "id": "QKl6YmcXeNR5"
      },
      "id": "QKl6YmcXeNR5",
      "execution_count": null,
      "outputs": []
    },
    {
      "cell_type": "markdown",
      "source": [
        "Wrap data in a data loader"
      ],
      "metadata": {
        "id": "d6BSTuJYeQoJ"
      },
      "id": "d6BSTuJYeQoJ"
    },
    {
      "cell_type": "code",
      "source": [
        "data_size = len(data)\n",
        "NUM_GRAPHS_PER_BATCH = 64\n",
        "loader = DataLoader(data[:int(data_size * 0.8)],\n",
        "                    batch_size=NUM_GRAPHS_PER_BATCH, shuffle=True)\n",
        "test_loader = DataLoader(data[int(data_size * 0.8):],\n",
        "                         batch_size=NUM_GRAPHS_PER_BATCH, shuffle=True)"
      ],
      "metadata": {
        "id": "baCKlF5BeNbq"
      },
      "id": "baCKlF5BeNbq",
      "execution_count": null,
      "outputs": []
    },
    {
      "cell_type": "markdown",
      "source": [
        "Train the model"
      ],
      "metadata": {
        "id": "o3N3B6Gvek1U"
      },
      "id": "o3N3B6Gvek1U"
    },
    {
      "cell_type": "code",
      "execution_count": 10,
      "id": "15070658",
      "metadata": {
        "id": "15070658",
        "outputId": "2845f37d-daa0-46ad-8a20-5b537aa8718c",
        "colab": {
          "base_uri": "https://localhost:8080/"
        }
      },
      "outputs": [
        {
          "output_type": "stream",
          "name": "stdout",
          "text": [
            "Starting training...\n",
            "Epoch 0 | Train Loss 11.665947914123535\n",
            "Epoch 100 | Train Loss 0.8504207730293274\n",
            "Epoch 200 | Train Loss 1.1154390573501587\n",
            "Epoch 300 | Train Loss 0.32911959290504456\n",
            "Epoch 400 | Train Loss 0.23744039237499237\n",
            "Epoch 500 | Train Loss 0.38848552107810974\n",
            "Epoch 600 | Train Loss 0.22591347992420197\n",
            "Epoch 700 | Train Loss 0.06603380292654037\n",
            "Epoch 800 | Train Loss 0.161929190158844\n",
            "Epoch 900 | Train Loss 0.1568988561630249\n",
            "Epoch 1000 | Train Loss 0.046887725591659546\n",
            "Epoch 1100 | Train Loss 0.03903582692146301\n",
            "Epoch 1200 | Train Loss 0.15991733968257904\n",
            "Epoch 1300 | Train Loss 0.08483908325433731\n",
            "Epoch 1400 | Train Loss 0.04848349094390869\n",
            "Epoch 1500 | Train Loss 0.018160203471779823\n",
            "Epoch 1600 | Train Loss 0.02361152321100235\n",
            "Epoch 1700 | Train Loss 0.02528112567961216\n",
            "Epoch 1800 | Train Loss 0.04550778865814209\n",
            "Epoch 1900 | Train Loss 0.05733415484428406\n"
          ]
        }
      ],
      "source": [
        "def train(data):\n",
        "    # Enumerate over the data\n",
        "    for batch in loader:\n",
        "      # Use GPU\n",
        "      batch.to(device)\n",
        "      # Reset gradients\n",
        "      optimizer.zero_grad()\n",
        "      # Passing the node features and the connection info\n",
        "      pred, embedding = model(batch.x.float(), batch.edge_index, batch.batch)\n",
        "      # Calculating the loss and gradients\n",
        "      loss = loss_fn(pred, batch.y)\n",
        "      loss.backward()\n",
        "      # Update using the gradients\n",
        "      optimizer.step()\n",
        "    return loss, embedding\n",
        "\n",
        "print(\"Starting training...\")\n",
        "losses = []\n",
        "for epoch in range(2000):\n",
        "    loss, h = train(data)\n",
        "    losses.append(loss)\n",
        "    if epoch % 100 == 0:\n",
        "      print(f\"Epoch {epoch} | Train Loss {loss}\")"
      ]
    },
    {
      "cell_type": "markdown",
      "source": [
        "Visualize learning (training loss)"
      ],
      "metadata": {
        "id": "EUCinX5yepH7"
      },
      "id": "EUCinX5yepH7"
    },
    {
      "cell_type": "code",
      "execution_count": null,
      "id": "11d670dd",
      "metadata": {
        "id": "11d670dd",
        "outputId": "5479b51b-1415-4532-e244-9c75e1e5e98a"
      },
      "outputs": [
        {
          "data": {
            "text/plain": [
              "<AxesSubplot:>"
            ]
          },
          "execution_count": 5,
          "metadata": {},
          "output_type": "execute_result"
        },
        {
          "data": {
            "image/png": "[encoded data removed]",
            "text/plain": [
              "<Figure size 432x288 with 1 Axes>"
            ]
          },
          "metadata": {
            "needs_background": "light"
          },
          "output_type": "display_data"
        }
      ],
      "source": [
        "losses_float = [float(loss.cpu().detach().numpy()) for loss in losses]\n",
        "loss_indices = [i for i,l in enumerate(losses_float)]\n",
        "plt = sns.lineplot(loss_indices, losses_float)\n",
        "plt"
      ]
    },
    {
      "cell_type": "markdown",
      "source": [
        "Analyze the results for one batch"
      ],
      "metadata": {
        "id": "DmxtZ8sle8kN"
      },
      "id": "DmxtZ8sle8kN"
    },
    {
      "cell_type": "code",
      "execution_count": null,
      "id": "03f638f3",
      "metadata": {
        "id": "03f638f3",
        "outputId": "39787612-f1e2-48ca-d002-768714e8aa6f"
      },
      "outputs": [
        {
          "data": {
            "text/html": [
              "<div>\n",
              "<style scoped>\n",
              "    .dataframe tbody tr th:only-of-type {\n",
              "        vertical-align: middle;\n",
              "    }\n",
              "\n",
              "    .dataframe tbody tr th {\n",
              "        vertical-align: top;\n",
              "    }\n",
              "\n",
              "    .dataframe thead th {\n",
              "        text-align: right;\n",
              "    }\n",
              "</style>\n",
              "<table border=\"1\" class=\"dataframe\">\n",
              "  <thead>\n",
              "    <tr style=\"text-align: right;\">\n",
              "      <th></th>\n",
              "      <th>y_real</th>\n",
              "      <th>y_pred</th>\n",
              "    </tr>\n",
              "  </thead>\n",
              "  <tbody>\n",
              "    <tr>\n",
              "      <th>0</th>\n",
              "      <td>0.940</td>\n",
              "      <td>0.461395</td>\n",
              "    </tr>\n",
              "    <tr>\n",
              "      <th>1</th>\n",
              "      <td>-6.237</td>\n",
              "      <td>-3.025320</td>\n",
              "    </tr>\n",
              "    <tr>\n",
              "      <th>2</th>\n",
              "      <td>-2.540</td>\n",
              "      <td>-2.708921</td>\n",
              "    </tr>\n",
              "    <tr>\n",
              "      <th>3</th>\n",
              "      <td>-5.680</td>\n",
              "      <td>-5.809837</td>\n",
              "    </tr>\n",
              "    <tr>\n",
              "      <th>4</th>\n",
              "      <td>-2.460</td>\n",
              "      <td>-1.651546</td>\n",
              "    </tr>\n",
              "    <tr>\n",
              "      <th>...</th>\n",
              "      <td>...</td>\n",
              "      <td>...</td>\n",
              "    </tr>\n",
              "    <tr>\n",
              "      <th>59</th>\n",
              "      <td>-1.890</td>\n",
              "      <td>-1.544902</td>\n",
              "    </tr>\n",
              "    <tr>\n",
              "      <th>60</th>\n",
              "      <td>-2.218</td>\n",
              "      <td>-3.999350</td>\n",
              "    </tr>\n",
              "    <tr>\n",
              "      <th>61</th>\n",
              "      <td>-3.583</td>\n",
              "      <td>-1.239443</td>\n",
              "    </tr>\n",
              "    <tr>\n",
              "      <th>62</th>\n",
              "      <td>-2.580</td>\n",
              "      <td>-2.514384</td>\n",
              "    </tr>\n",
              "    <tr>\n",
              "      <th>63</th>\n",
              "      <td>-4.360</td>\n",
              "      <td>-4.466710</td>\n",
              "    </tr>\n",
              "  </tbody>\n",
              "</table>\n",
              "<p>64 rows × 2 columns</p>\n",
              "</div>"
            ],
            "text/plain": [
              "    y_real    y_pred\n",
              "0    0.940  0.461395\n",
              "1   -6.237 -3.025320\n",
              "2   -2.540 -2.708921\n",
              "3   -5.680 -5.809837\n",
              "4   -2.460 -1.651546\n",
              "..     ...       ...\n",
              "59  -1.890 -1.544902\n",
              "60  -2.218 -3.999350\n",
              "61  -3.583 -1.239443\n",
              "62  -2.580 -2.514384\n",
              "63  -4.360 -4.466710\n",
              "\n",
              "[64 rows x 2 columns]"
            ]
          },
          "execution_count": 6,
          "metadata": {},
          "output_type": "execute_result"
        }
      ],
      "source": [
        "test_batch = next(iter(test_loader))\n",
        "with torch.no_grad():\n",
        "    test_batch.to(device)\n",
        "    pred, embed = model(test_batch.x.float(), test_batch.edge_index, test_batch.batch)\n",
        "    df = pd.DataFrame()\n",
        "    df[\"y_real\"] = test_batch.y.tolist()\n",
        "    df[\"y_pred\"] = pred.tolist()\n",
        "df[\"y_real\"] = df[\"y_real\"].apply(lambda row: row[0])\n",
        "df[\"y_pred\"] = df[\"y_pred\"].apply(lambda row: row[0])\n",
        "df"
      ]
    },
    {
      "cell_type": "markdown",
      "source": [
        "Plot the predictions"
      ],
      "metadata": {
        "id": "phwTQ_NOfC-H"
      },
      "id": "phwTQ_NOfC-H"
    },
    {
      "cell_type": "code",
      "execution_count": null,
      "id": "f12a3874",
      "metadata": {
        "id": "f12a3874",
        "outputId": "334c4009-439c-419d-f86f-82fbe9004c5d"
      },
      "outputs": [
        {
          "data": {
            "text/plain": [
              "<AxesSubplot:xlabel='y_real', ylabel='y_pred'>"
            ]
          },
          "execution_count": 7,
          "metadata": {},
          "output_type": "execute_result"
        },
        {
          "data": {
            "image/png": "[encoded data removed]",
            "text/plain": [
              "<Figure size 432x288 with 1 Axes>"
            ]
          },
          "metadata": {
            "needs_background": "light"
          },
          "output_type": "display_data"
        }
      ],
      "source": [
        "plt = sns.scatterplot(data=df, x=\"y_real\", y=\"y_pred\")\n",
        "plt.set(xlim=(-7, 2))\n",
        "plt.set(ylim=(-7, 2))\n",
        "plt"
      ]
    },
    {
      "cell_type": "code",
      "source": [
        "y_true=list(df[\"y_real\"])\n",
        "y_pred=list(df[\"y_pred\"])"
      ],
      "metadata": {
        "id": "jw8RU7OlfNAV"
      },
      "id": "jw8RU7OlfNAV",
      "execution_count": null,
      "outputs": []
    },
    {
      "cell_type": "markdown",
      "source": [
        "Calculate RMSE"
      ],
      "metadata": {
        "id": "SUS3Z-U5fQst"
      },
      "id": "SUS3Z-U5fQst"
    },
    {
      "cell_type": "code",
      "execution_count": null,
      "id": "fa36a455",
      "metadata": {
        "id": "fa36a455",
        "outputId": "4559593c-7ac3-4b5a-c75d-1c2b579a0a14"
      },
      "outputs": [
        {
          "name": "stdout",
          "output_type": "stream",
          "text": [
            "RMSE: 1.0470363272377388\n"
          ]
        }
      ],
      "source": [
        "# Function to calculate RMSE\n",
        "def calculate_rmse(y_true, y_pred):\n",
        "    return np.sqrt(np.mean((y_true - y_pred) ** 2))\n",
        "\n",
        "# Calculate RMSE\n",
        "rmse = calculate_rmse(np.array(y_true), np.array(y_pred))\n",
        "\n",
        "# Print RMSE\n",
        "print(f\"RMSE: {rmse}\")"
      ]
    },
    {
      "cell_type": "markdown",
      "id": "18ff1e16",
      "metadata": {
        "id": "18ff1e16"
      },
      "source": [
        "# We recommend tuned hyperparameters"
      ]
    },
    {
      "cell_type": "markdown",
      "source": [
        "Changed parameters of the exist model:\n",
        "\n",
        "- GATConv\n",
        "\n",
        "- one additional layer\n",
        "\n",
        "- optimizer torch.optim.RMSprop\n",
        "\n",
        "- learning rate\n",
        "\n",
        "- hidden channels\n",
        "\n",
        "- remove pooling\n",
        "\n",
        "- change epochs"
      ],
      "metadata": {
        "id": "OSZb2zCbdUW2"
      },
      "id": "OSZb2zCbdUW2"
    },
    {
      "cell_type": "markdown",
      "id": "ee66de90",
      "metadata": {
        "id": "ee66de90"
      },
      "source": [
        "For your convenience copy code and change"
      ]
    },
    {
      "cell_type": "code",
      "execution_count": null,
      "id": "599fb8d9",
      "metadata": {
        "id": "599fb8d9"
      },
      "outputs": [],
      "source": [
        "embedding_size = 64\n",
        "\n",
        "class GCN(torch.nn.Module):\n",
        "    def __init__(self):\n",
        "        # Init parent\n",
        "        super(GCN, self).__init__()\n",
        "        torch.manual_seed(42)\n",
        "\n",
        "        # GCN layers\n",
        "        self.initial_conv = GCNConv(data.num_features, embedding_size)\n",
        "        self.conv1 = GCNConv(embedding_size, embedding_size)\n",
        "        self.conv2 = GCNConv(embedding_size, embedding_size)\n",
        "        self.conv3 = GCNConv(embedding_size, embedding_size)\n",
        "\n",
        "        # Output layer\n",
        "        self.out = Linear(embedding_size*2, 1)\n",
        "\n",
        "    def forward(self, x, edge_index, batch_index):\n",
        "        # First Conv layer\n",
        "        hidden = self.initial_conv(x, edge_index)\n",
        "        hidden = F.tanh(hidden)\n",
        "\n",
        "        # Other Conv layers\n",
        "        hidden = self.conv1(hidden, edge_index)\n",
        "        hidden = F.tanh(hidden)\n",
        "        hidden = self.conv2(hidden, edge_index)\n",
        "        hidden = F.tanh(hidden)\n",
        "        hidden = self.conv3(hidden, edge_index)\n",
        "        hidden = F.tanh(hidden)\n",
        "\n",
        "        # Global Pooling (stack different aggregations)\n",
        "        hidden = torch.cat([gmp(hidden, batch_index),\n",
        "                            gap(hidden, batch_index)], dim=1)\n",
        "\n",
        "        # Apply a final (linear) classifier.\n",
        "        out = self.out(hidden)\n",
        "        return out, hidden\n",
        "\n",
        "model = GCN()\n",
        "print(model)\n",
        "print(\"Number of parameters: \", sum(p.numel() for p in model.parameters()))\n",
        "\n",
        "from torch_geometric.data import DataLoader\n",
        "import warnings\n",
        "warnings.filterwarnings(\"ignore\")\n",
        "\n",
        "# Root mean squared error\n",
        "loss_fn = torch.nn.MSELoss()\n",
        "optimizer = torch.optim.Adam(model.parameters(), lr=0.0007)\n",
        "\n",
        "# Use GPU for training\n",
        "device = torch.device(\"cuda:0\" if torch.cuda.is_available() else \"cpu\")\n",
        "model = model.to(device)\n",
        "\n",
        "# Wrap data in a data loader\n",
        "data_size = len(data)\n",
        "NUM_GRAPHS_PER_BATCH = 64\n",
        "loader = DataLoader(data[:int(data_size * 0.8)],\n",
        "                    batch_size=NUM_GRAPHS_PER_BATCH, shuffle=True)\n",
        "test_loader = DataLoader(data[int(data_size * 0.8):],\n",
        "                         batch_size=NUM_GRAPHS_PER_BATCH, shuffle=True)\n",
        "def train(data):\n",
        "    # Enumerate over the data\n",
        "    for batch in loader:\n",
        "      # Use GPU\n",
        "      batch.to(device)\n",
        "      # Reset gradients\n",
        "      optimizer.zero_grad()\n",
        "      # Passing the node features and the connection info\n",
        "      pred, embedding = model(batch.x.float(), batch.edge_index, batch.batch)\n",
        "      # Calculating the loss and gradients\n",
        "      loss = loss_fn(pred, batch.y)\n",
        "      loss.backward()\n",
        "      # Update using the gradients\n",
        "      optimizer.step()\n",
        "    return loss, embedding\n",
        "\n",
        "print(\"Starting training...\")\n",
        "losses = []\n",
        "for epoch in range(2000):\n",
        "    loss, h = train(data)\n",
        "    losses.append(loss)\n",
        "    if epoch % 100 == 0:\n",
        "      print(f\"Epoch {epoch} | Train Loss {loss}\")\n",
        "\n",
        "import pandas as pd\n",
        "\n",
        "# Analyze the results for one batch\n",
        "test_batch = next(iter(test_loader))\n",
        "with torch.no_grad():\n",
        "    test_batch.to(device)\n",
        "    pred, embed = model(test_batch.x.float(), test_batch.edge_index, test_batch.batch)\n",
        "    df = pd.DataFrame()\n",
        "    df[\"y_real\"] = test_batch.y.tolist()\n",
        "    df[\"y_pred\"] = pred.tolist()\n",
        "df[\"y_real\"] = df[\"y_real\"].apply(lambda row: row[0])\n",
        "df[\"y_pred\"] = df[\"y_pred\"].apply(lambda row: row[0])\n",
        "\n",
        "plt = sns.scatterplot(data=df, x=\"y_real\", y=\"y_pred\")\n",
        "plt.set(xlim=(-7, 2))\n",
        "plt.set(ylim=(-7, 2))\n",
        "plt\n",
        "\n",
        "import numpy as np\n",
        "\n",
        "y_true=list(df[\"y_real\"])\n",
        "y_pred=list(df[\"y_pred\"])\n",
        "\n",
        "# Function to calculate RMSE\n",
        "def calculate_rmse(y_true, y_pred):\n",
        "    return np.sqrt(np.mean((y_true - y_pred) ** 2))\n",
        "\n",
        "# Calculate RMSE\n",
        "rmse = calculate_rmse(np.array(y_true), np.array(y_pred))\n",
        "\n",
        "# Print RMSE\n",
        "print(f\"RMSE: {rmse}\")"
      ]
    },
    {
      "cell_type": "markdown",
      "id": "6a706f2e",
      "metadata": {
        "id": "6a706f2e"
      },
      "source": [
        "# Features (rdkit tool)"
      ]
    },
    {
      "cell_type": "markdown",
      "id": "34452a1a",
      "metadata": {
        "id": "34452a1a"
      },
      "source": [
        "Change features (9 local features are avalible in rdkit and 5 features are added as global features to each chemical element (same as atomic features))"
      ]
    },
    {
      "cell_type": "markdown",
      "id": "b5e24fe1",
      "metadata": {
        "id": "b5e24fe1"
      },
      "source": [
        "#Input data"
      ]
    },
    {
      "cell_type": "markdown",
      "id": "35ef8d41",
      "metadata": {
        "id": "35ef8d41"
      },
      "source": [
        "#Features"
      ]
    },
    {
      "cell_type": "markdown",
      "id": "ce2efaf0",
      "metadata": {
        "id": "ce2efaf0"
      },
      "source": [
        "Note. We estimated all features provided by rdkit, we recommended to select as features only stable ones (fo this we run code 5 times and estimated if they are still without any changes for the same SMILES)"
      ]
    },
    {
      "cell_type": "markdown",
      "source": [
        "Define a function to calculate the distance between two points in 3D space"
      ],
      "metadata": {
        "id": "jn8_Am3ihR-i"
      },
      "id": "jn8_Am3ihR-i"
    },
    {
      "cell_type": "code",
      "source": [
        "def calculate_distance(coord1, coord2):\n",
        "    return np.sqrt((coord1[0] - coord2[0])**2 + (coord1[1] - coord2[1])**2 + (coord1[2] - coord2[2])**2)"
      ],
      "metadata": {
        "id": "bu1zRBHLhXsr"
      },
      "id": "bu1zRBHLhXsr",
      "execution_count": null,
      "outputs": []
    },
    {
      "cell_type": "markdown",
      "source": [
        "Define a function to extract features based on distances from the center"
      ],
      "metadata": {
        "id": "G1fNLPLChaka"
      },
      "id": "G1fNLPLChaka"
    },
    {
      "cell_type": "code",
      "source": [
        "def extract_features(molecule):\n",
        "    mol = Chem.MolFromSmiles(molecule)  # Convert SMILES to an RDKit molecule object\n",
        "    mol = Chem.AddHs(mol)\n",
        "    AllChem.EmbedMolecule(mol, AllChem.ETKDG())\n",
        "    center = np.array([0.0, 0.0, 0.0])  # Define the center of the molecule\n",
        "    features = []\n",
        "    for atom in mol.GetAtoms():\n",
        "        coord = mol.GetConformer().GetAtomPosition(atom.GetIdx())\n",
        "        distance = calculate_distance(coord, center)\n",
        "        features.append(distance)\n",
        "    return features"
      ],
      "metadata": {
        "id": "rvkhmcoMhdu6"
      },
      "id": "rvkhmcoMhdu6",
      "execution_count": null,
      "outputs": []
    },
    {
      "cell_type": "markdown",
      "source": [
        "Initialize an empty list to store features for each molecule"
      ],
      "metadata": {
        "id": "i-PswIBFhmK4"
      },
      "id": "i-PswIBFhmK4"
    },
    {
      "cell_type": "code",
      "execution_count": null,
      "id": "843f2333",
      "metadata": {
        "id": "843f2333"
      },
      "outputs": [],
      "source": [
        "features_list = []\n",
        "\n",
        "# Iterate through each SMILES string\n",
        "for smiles in SMILES_list:\n",
        "    # Convert SMILES to an RDKit molecule object\n",
        "    mol = Chem.MolFromSmiles(smiles)\n",
        "\n",
        "    # Initialize an empty list to store features for each atom\n",
        "    atom_features_list = []\n",
        "\n",
        "    # Iterate through each atom in the molecule\n",
        "    for atom in mol.GetAtoms():\n",
        "        # Define local features:\n",
        "        features_lst = [\n",
        "\n",
        "            int(atom.GetAtomicNum()),  # Atomic number\n",
        "            int(atom.GetTotalNumHs()),  # Number of hydrogen atoms\n",
        "            int(atom.GetTotalValence()),  # Number of valence electrons\n",
        "            int(atom.GetNumRadicalElectrons()),  # Number of radical electrons\n",
        "            int(atom.GetFormalCharge()),  # Formal charge\n",
        "            int(atom.GetHybridization()),  # change format for removing: rdkit.Chem.rdchem.HybridizationType.SP in desciptions.\n",
        "            #Note: For sp1 is marked as rdkit.Chem.rdchem.HybridizationType.SP (without any number).\n",
        "\n",
        "            #new features from SMILES\n",
        "            int((atom.GetMass()- 10.812)/116.092),  # Number of valence electrons\n",
        "            int((atom.GetAtomicNum() - 1.5)/0.6),\n",
        "            int((atom.GetAtomicNum()- 0.64)/0.76)\n",
        "        ]\n",
        "\n",
        "        # Additional global features\n",
        "        min_degree = atom.GetDegree()\n",
        "        num_hbond_donors = 1 if atom.GetSymbol() == 'O' and atom.GetTotalNumHs() > 0 else 0\n",
        "        num_rings = 1 if atom.IsInRing() else 0\n",
        "        num_rotatable_bonds = rdMolDescriptors.CalcNumRotatableBonds(mol)\n",
        "        polar_surface_area = rdMolDescriptors.CalcTPSA(mol)  # Calculate polar surface area\n",
        "\n",
        "        # Append additional features to the atom's features\n",
        "        features_lst += [min_degree, num_hbond_donors, num_rings, num_rotatable_bonds, int(polar_surface_area)]\n",
        "\n",
        "        # Append the atom's features to the list\n",
        "        atom_features_list.append(features_lst)\n",
        "\n",
        "    # Append the features for each atom to the list\n",
        "    features_list.append(atom_features_list)\n",
        "x=features_list\n",
        "#print(x)"
      ]
    },
    {
      "cell_type": "markdown",
      "id": "c5d119be",
      "metadata": {
        "id": "c5d119be"
      },
      "source": [
        "#Edge indexes"
      ]
    },
    {
      "cell_type": "code",
      "execution_count": null,
      "id": "227429a1",
      "metadata": {
        "id": "227429a1"
      },
      "outputs": [],
      "source": [
        "# Initialize list to store all edge indexes\n",
        "edge_index = []\n",
        "\n",
        "# Iterate through each SMILES string\n",
        "for smiles in SMILES_list:\n",
        "    # Convert SMILES string to RDKit Mol object\n",
        "    mol = Chem.MolFromSmiles(smiles)\n",
        "\n",
        "    # Get atom and bond information\n",
        "    atoms = mol.GetAtoms()\n",
        "    bonds = mol.GetBonds()\n",
        "\n",
        "    # Initialize edge indexes list for this SMILES\n",
        "    edge_indexes = []\n",
        "\n",
        "    # Iterate through bonds to get the edge indexes\n",
        "    for bond in bonds:\n",
        "        begin_idx = bond.GetBeginAtomIdx()\n",
        "        end_idx = bond.GetEndAtomIdx()\n",
        "        edge_indexes.append([begin_idx, end_idx])\n",
        "        edge_indexes.append([end_idx, begin_idx])  # Add the reverse direction as well\n",
        "\n",
        "    # Append the edge indexes for this SMILES to the overall list\n",
        "    edge_index.append(edge_indexes)"
      ]
    },
    {
      "cell_type": "markdown",
      "id": "a6e404ba",
      "metadata": {
        "id": "a6e404ba"
      },
      "source": [
        "#Input data for the GNN model"
      ]
    },
    {
      "cell_type": "code",
      "execution_count": null,
      "id": "208ee667",
      "metadata": {
        "id": "208ee667"
      },
      "outputs": [],
      "source": [
        "data = []\n",
        "\n",
        "for i in range(len(x)):\n",
        "    x_graph = torch.tensor(x[i], dtype=torch.float32)\n",
        "    edge_index_graph = torch.tensor(edge_index[i], dtype=torch.long).t().contiguous()\n",
        "    y_graph = torch.tensor(y[i], dtype=torch.float32)\n",
        "\n",
        "    data_graph = Data(x=x_graph, edge_index=edge_index_graph, y=y_graph)\n",
        "    data.append(data_graph)"
      ]
    },
    {
      "cell_type": "markdown",
      "id": "844cd20d",
      "metadata": {
        "id": "844cd20d"
      },
      "source": [
        "# Code (ESOL library) with modifyed features"
      ]
    },
    {
      "cell_type": "code",
      "execution_count": null,
      "id": "17ec9b0f",
      "metadata": {
        "id": "17ec9b0f",
        "outputId": "91e36073-ced7-4a5a-9bea-8c14c813749a"
      },
      "outputs": [
        {
          "name": "stdout",
          "output_type": "stream",
          "text": [
            "GCN(\n",
            "  (initial_conv): GCNConv(14, 64)\n",
            "  (conv1): GCNConv(64, 64)\n",
            "  (conv2): GCNConv(64, 64)\n",
            "  (conv3): GCNConv(64, 64)\n",
            "  (out): Linear(in_features=128, out_features=1, bias=True)\n",
            ")\n",
            "Number of parameters:  13569\n",
            "Starting training...\n",
            "Epoch 0 | Train Loss 11.45377254486084\n",
            "Epoch 100 | Train Loss 0.6381416916847229\n",
            "Epoch 200 | Train Loss 0.453571081161499\n",
            "Epoch 300 | Train Loss 0.6672500967979431\n",
            "Epoch 400 | Train Loss 0.3373631238937378\n",
            "Epoch 500 | Train Loss 0.3855559527873993\n",
            "Epoch 600 | Train Loss 0.501336932182312\n",
            "Epoch 700 | Train Loss 0.22447647154331207\n",
            "Epoch 800 | Train Loss 0.20879600942134857\n",
            "Epoch 900 | Train Loss 0.15577635169029236\n",
            "Epoch 1000 | Train Loss 0.05079905688762665\n",
            "Epoch 1100 | Train Loss 0.04300976172089577\n",
            "Epoch 1200 | Train Loss 0.08220664411783218\n",
            "Epoch 1300 | Train Loss 0.1867268830537796\n",
            "Epoch 1400 | Train Loss 0.0742432102560997\n",
            "Epoch 1500 | Train Loss 0.026662612333893776\n",
            "Epoch 1600 | Train Loss 0.01951376162469387\n",
            "Epoch 1700 | Train Loss 0.07720822840929031\n",
            "Epoch 1800 | Train Loss 0.05402842164039612\n",
            "Epoch 1900 | Train Loss 0.019115934148430824\n",
            "RMSE: 0.7688268360130781\n"
          ]
        },
        {
          "data": {
            "image/png": "[encoded data removed]",
            "text/plain": [
              "<Figure size 432x288 with 1 Axes>"
            ]
          },
          "metadata": {
            "needs_background": "light"
          },
          "output_type": "display_data"
        }
      ],
      "source": [
        "embedding_size = 64\n",
        "\n",
        "class GCN(torch.nn.Module):\n",
        "    def __init__(self):\n",
        "        # Init parent\n",
        "        super(GCN, self).__init__()\n",
        "        torch.manual_seed(42)\n",
        "\n",
        "        # GCN layers\n",
        "        self.initial_conv = GCNConv(len(x[0][0]), embedding_size)\n",
        "        self.conv1 = GCNConv(embedding_size, embedding_size)\n",
        "        self.conv2 = GCNConv(embedding_size, embedding_size)\n",
        "        self.conv3 = GCNConv(embedding_size, embedding_size)\n",
        "\n",
        "        # Output layer\n",
        "        self.out = Linear(embedding_size*2, 1)\n",
        "\n",
        "    def forward(self, x, edge_index, batch_index):\n",
        "        # First Conv layer\n",
        "        hidden = self.initial_conv(x, edge_index)\n",
        "        hidden = F.tanh(hidden)\n",
        "\n",
        "        # Other Conv layers\n",
        "        hidden = self.conv1(hidden, edge_index)\n",
        "        hidden = F.tanh(hidden)\n",
        "        hidden = self.conv2(hidden, edge_index)\n",
        "        hidden = F.tanh(hidden)\n",
        "        hidden = self.conv3(hidden, edge_index)\n",
        "        hidden = F.tanh(hidden)\n",
        "\n",
        "        # Global Pooling (stack different aggregations)\n",
        "        hidden = torch.cat([gmp(hidden, batch_index),\n",
        "                            gap(hidden, batch_index)], dim=1)\n",
        "\n",
        "        # Apply a final (linear) classifier.\n",
        "        out = self.out(hidden)\n",
        "        return out, hidden\n",
        "\n",
        "model = GCN()\n",
        "print(model)\n",
        "print(\"Number of parameters: \", sum(p.numel() for p in model.parameters()))\n",
        "\n",
        "from torch_geometric.data import DataLoader\n",
        "import warnings\n",
        "warnings.filterwarnings(\"ignore\")\n",
        "\n",
        "# Root mean squared error\n",
        "loss_fn = torch.nn.MSELoss()\n",
        "optimizer = torch.optim.Adam(model.parameters(), lr=0.0007)\n",
        "\n",
        "# Use GPU for training\n",
        "device = torch.device(\"cuda:0\" if torch.cuda.is_available() else \"cpu\")\n",
        "model = model.to(device)\n",
        "\n",
        "# Wrap data in a data loader\n",
        "data_size = len(data)\n",
        "NUM_GRAPHS_PER_BATCH = 64\n",
        "loader = DataLoader(data[:int(data_size * 0.8)],\n",
        "                    batch_size=NUM_GRAPHS_PER_BATCH, shuffle=True)\n",
        "test_loader = DataLoader(data[int(data_size * 0.8):],\n",
        "                         batch_size=NUM_GRAPHS_PER_BATCH, shuffle=True)\n",
        "\n",
        "def train(data):\n",
        "    # Enumerate over the data\n",
        "    for batch in loader:\n",
        "      # Use GPU\n",
        "      batch.to(device)\n",
        "      # Reset gradients\n",
        "      optimizer.zero_grad()\n",
        "      # Passing the node features and the connection info\n",
        "      pred, embedding = model(batch.x.float(), batch.edge_index, batch.batch)\n",
        "      # Calculating the loss and gradients\n",
        "      loss = loss_fn(pred, batch.y)\n",
        "      loss.backward()\n",
        "      # Update using the gradients\n",
        "      optimizer.step()\n",
        "    return loss, embedding\n",
        "\n",
        "print(\"Starting training...\")\n",
        "losses = []\n",
        "for epoch in range(2000):\n",
        "    loss, h = train(data)\n",
        "    losses.append(loss)\n",
        "    if epoch % 100 == 0:\n",
        "      print(f\"Epoch {epoch} | Train Loss {loss}\")\n",
        "\n",
        "import pandas as pd\n",
        "\n",
        "# Analyze the results for one batch\n",
        "test_batch = next(iter(test_loader))\n",
        "with torch.no_grad():\n",
        "    test_batch.to(device)\n",
        "    pred, embed = model(test_batch.x.float(), test_batch.edge_index, test_batch.batch)\n",
        "    df = pd.DataFrame()\n",
        "    df[\"y_real\"] = test_batch.y.tolist()\n",
        "    df[\"y_pred\"] = pred.tolist()\n",
        "df[\"y_real\"] = df[\"y_real\"].apply(lambda row: row[0])\n",
        "df[\"y_pred\"] = df[\"y_pred\"].apply(lambda row: row[0])\n",
        "\n",
        "plt = sns.scatterplot(data=df, x=\"y_real\", y=\"y_pred\")\n",
        "plt.set(xlim=(-7, 2))\n",
        "plt.set(ylim=(-7, 2))\n",
        "plt\n",
        "\n",
        "import numpy as np\n",
        "\n",
        "y_true=list(df[\"y_real\"])\n",
        "y_pred=list(df[\"y_pred\"])\n",
        "\n",
        "# Function to calculate RMSE\n",
        "def calculate_rmse(y_true, y_pred):\n",
        "    return np.sqrt(np.mean((y_true - y_pred) ** 2))\n",
        "\n",
        "# Calculate RMSE\n",
        "rmse = calculate_rmse(np.array(y_true), np.array(y_pred))\n",
        "\n",
        "# Print RMSE\n",
        "print(f\"RMSE: {rmse}\")"
      ]
    }
  ],
  "metadata": {
    "kernelspec": {
      "display_name": "Python 3 (ipykernel)",
      "language": "python",
      "name": "python3"
    },
    "language_info": {
      "codemirror_mode": {
        "name": "ipython",
        "version": 3
      },
      "file_extension": ".py",
      "mimetype": "text/x-python",
      "name": "python",
      "nbconvert_exporter": "python",
      "pygments_lexer": "ipython3",
      "version": "3.9.12"
    },
    "colab": {
      "provenance": []
    }
  },
  "nbformat": 4,
  "nbformat_minor": 5
}